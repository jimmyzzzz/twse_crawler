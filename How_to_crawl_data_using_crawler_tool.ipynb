{
 "cells": [
  {
   "cell_type": "markdown",
   "id": "6586ac0f-5d49-4f9e-8716-294fa4752ddf",
   "metadata": {},
   "source": [
    "# 如何使用crawler_tool爬取資料\n",
    "\n",
    "\n",
    "在本篇中你會瞭解到:\n",
    "1. 如何使用crawler_tool內建函數抓取股價資料\n",
    "2. 如何使用crawler_tool內建的工具建立新的爬蟲函數\n"
   ]
  },
  {
   "cell_type": "markdown",
   "id": "8078d4c7-68ba-4fd0-8364-ac13c701ec70",
   "metadata": {},
   "source": [
    "***\n",
    "## 爬取股價資料\n",
    "下面是一個簡單的例子，當你想爬取台泥(1101)2022年1月的股票時可以這麼做:"
   ]
  },
  {
   "cell_type": "code",
   "execution_count": 9,
   "id": "08a5aa5d-cc26-4403-977c-b9e438873c51",
   "metadata": {
    "tags": []
   },
   "outputs": [
    {
     "data": {
      "text/html": [
       "<div>\n",
       "<style scoped>\n",
       "    .dataframe tbody tr th:only-of-type {\n",
       "        vertical-align: middle;\n",
       "    }\n",
       "\n",
       "    .dataframe tbody tr th {\n",
       "        vertical-align: top;\n",
       "    }\n",
       "\n",
       "    .dataframe thead th {\n",
       "        text-align: right;\n",
       "    }\n",
       "</style>\n",
       "<table border=\"1\" class=\"dataframe\">\n",
       "  <thead>\n",
       "    <tr style=\"text-align: right;\">\n",
       "      <th></th>\n",
       "      <th>date</th>\n",
       "      <th>volume</th>\n",
       "      <th>value</th>\n",
       "      <th>open</th>\n",
       "      <th>high</th>\n",
       "      <th>low</th>\n",
       "      <th>close</th>\n",
       "      <th>record</th>\n",
       "      <th>stock_id</th>\n",
       "    </tr>\n",
       "  </thead>\n",
       "  <tbody>\n",
       "    <tr>\n",
       "      <th>0</th>\n",
       "      <td>2022-04-01</td>\n",
       "      <td>9917831</td>\n",
       "      <td>493504834</td>\n",
       "      <td>49.70</td>\n",
       "      <td>50.00</td>\n",
       "      <td>49.45</td>\n",
       "      <td>49.75</td>\n",
       "      <td>7457</td>\n",
       "      <td>1101</td>\n",
       "    </tr>\n",
       "    <tr>\n",
       "      <th>1</th>\n",
       "      <td>2022-04-06</td>\n",
       "      <td>10985331</td>\n",
       "      <td>548362617</td>\n",
       "      <td>49.75</td>\n",
       "      <td>50.20</td>\n",
       "      <td>49.60</td>\n",
       "      <td>50.20</td>\n",
       "      <td>5728</td>\n",
       "      <td>1101</td>\n",
       "    </tr>\n",
       "    <tr>\n",
       "      <th>2</th>\n",
       "      <td>2022-04-07</td>\n",
       "      <td>11245643</td>\n",
       "      <td>559937105</td>\n",
       "      <td>49.80</td>\n",
       "      <td>50.20</td>\n",
       "      <td>49.50</td>\n",
       "      <td>49.55</td>\n",
       "      <td>7769</td>\n",
       "      <td>1101</td>\n",
       "    </tr>\n",
       "    <tr>\n",
       "      <th>3</th>\n",
       "      <td>2022-04-08</td>\n",
       "      <td>6494233</td>\n",
       "      <td>322457815</td>\n",
       "      <td>49.60</td>\n",
       "      <td>49.80</td>\n",
       "      <td>49.40</td>\n",
       "      <td>49.80</td>\n",
       "      <td>4598</td>\n",
       "      <td>1101</td>\n",
       "    </tr>\n",
       "    <tr>\n",
       "      <th>4</th>\n",
       "      <td>2022-04-11</td>\n",
       "      <td>8089418</td>\n",
       "      <td>400306570</td>\n",
       "      <td>49.80</td>\n",
       "      <td>49.95</td>\n",
       "      <td>49.10</td>\n",
       "      <td>49.45</td>\n",
       "      <td>8178</td>\n",
       "      <td>1101</td>\n",
       "    </tr>\n",
       "  </tbody>\n",
       "</table>\n",
       "</div>"
      ],
      "text/plain": [
       "         date    volume      value   open   high    low  close  record  \\\n",
       "0  2022-04-01   9917831  493504834  49.70  50.00  49.45  49.75    7457   \n",
       "1  2022-04-06  10985331  548362617  49.75  50.20  49.60  50.20    5728   \n",
       "2  2022-04-07  11245643  559937105  49.80  50.20  49.50  49.55    7769   \n",
       "3  2022-04-08   6494233  322457815  49.60  49.80  49.40  49.80    4598   \n",
       "4  2022-04-11   8089418  400306570  49.80  49.95  49.10  49.45    8178   \n",
       "\n",
       "  stock_id  \n",
       "0     1101  \n",
       "1     1101  \n",
       "2     1101  \n",
       "3     1101  \n",
       "4     1101  "
      ]
     },
     "execution_count": 9,
     "metadata": {},
     "output_type": "execute_result"
    }
   ],
   "source": [
    "from crawler_tool import get_month_price     \n",
    "\n",
    "month_df = get_month_price(\n",
    "    stock_id='1101',        # 股票名稱\n",
    "    year=2022,              # 年份\n",
    "    month=4                 # 月份\n",
    ")\n",
    "month_df.head()"
   ]
  },
  {
   "cell_type": "markdown",
   "id": "a3766258-b535-485b-ac8f-ef39fcf421db",
   "metadata": {},
   "source": [
    "其中*year*和*month*參數也可以使用str:"
   ]
  },
  {
   "cell_type": "code",
   "execution_count": 10,
   "id": "f02cd55f-e37f-4bbd-b582-20d2d52db704",
   "metadata": {},
   "outputs": [
    {
     "data": {
      "text/html": [
       "<div>\n",
       "<style scoped>\n",
       "    .dataframe tbody tr th:only-of-type {\n",
       "        vertical-align: middle;\n",
       "    }\n",
       "\n",
       "    .dataframe tbody tr th {\n",
       "        vertical-align: top;\n",
       "    }\n",
       "\n",
       "    .dataframe thead th {\n",
       "        text-align: right;\n",
       "    }\n",
       "</style>\n",
       "<table border=\"1\" class=\"dataframe\">\n",
       "  <thead>\n",
       "    <tr style=\"text-align: right;\">\n",
       "      <th></th>\n",
       "      <th>date</th>\n",
       "      <th>volume</th>\n",
       "      <th>value</th>\n",
       "      <th>open</th>\n",
       "      <th>high</th>\n",
       "      <th>low</th>\n",
       "      <th>close</th>\n",
       "      <th>record</th>\n",
       "      <th>stock_id</th>\n",
       "    </tr>\n",
       "  </thead>\n",
       "  <tbody>\n",
       "    <tr>\n",
       "      <th>0</th>\n",
       "      <td>2022-04-01</td>\n",
       "      <td>9917831</td>\n",
       "      <td>493504834</td>\n",
       "      <td>49.70</td>\n",
       "      <td>50.00</td>\n",
       "      <td>49.45</td>\n",
       "      <td>49.75</td>\n",
       "      <td>7457</td>\n",
       "      <td>1101</td>\n",
       "    </tr>\n",
       "    <tr>\n",
       "      <th>1</th>\n",
       "      <td>2022-04-06</td>\n",
       "      <td>10985331</td>\n",
       "      <td>548362617</td>\n",
       "      <td>49.75</td>\n",
       "      <td>50.20</td>\n",
       "      <td>49.60</td>\n",
       "      <td>50.20</td>\n",
       "      <td>5728</td>\n",
       "      <td>1101</td>\n",
       "    </tr>\n",
       "    <tr>\n",
       "      <th>2</th>\n",
       "      <td>2022-04-07</td>\n",
       "      <td>11245643</td>\n",
       "      <td>559937105</td>\n",
       "      <td>49.80</td>\n",
       "      <td>50.20</td>\n",
       "      <td>49.50</td>\n",
       "      <td>49.55</td>\n",
       "      <td>7769</td>\n",
       "      <td>1101</td>\n",
       "    </tr>\n",
       "    <tr>\n",
       "      <th>3</th>\n",
       "      <td>2022-04-08</td>\n",
       "      <td>6494233</td>\n",
       "      <td>322457815</td>\n",
       "      <td>49.60</td>\n",
       "      <td>49.80</td>\n",
       "      <td>49.40</td>\n",
       "      <td>49.80</td>\n",
       "      <td>4598</td>\n",
       "      <td>1101</td>\n",
       "    </tr>\n",
       "    <tr>\n",
       "      <th>4</th>\n",
       "      <td>2022-04-11</td>\n",
       "      <td>8089418</td>\n",
       "      <td>400306570</td>\n",
       "      <td>49.80</td>\n",
       "      <td>49.95</td>\n",
       "      <td>49.10</td>\n",
       "      <td>49.45</td>\n",
       "      <td>8178</td>\n",
       "      <td>1101</td>\n",
       "    </tr>\n",
       "  </tbody>\n",
       "</table>\n",
       "</div>"
      ],
      "text/plain": [
       "         date    volume      value   open   high    low  close  record  \\\n",
       "0  2022-04-01   9917831  493504834  49.70  50.00  49.45  49.75    7457   \n",
       "1  2022-04-06  10985331  548362617  49.75  50.20  49.60  50.20    5728   \n",
       "2  2022-04-07  11245643  559937105  49.80  50.20  49.50  49.55    7769   \n",
       "3  2022-04-08   6494233  322457815  49.60  49.80  49.40  49.80    4598   \n",
       "4  2022-04-11   8089418  400306570  49.80  49.95  49.10  49.45    8178   \n",
       "\n",
       "  stock_id  \n",
       "0     1101  \n",
       "1     1101  \n",
       "2     1101  \n",
       "3     1101  \n",
       "4     1101  "
      ]
     },
     "execution_count": 10,
     "metadata": {},
     "output_type": "execute_result"
    }
   ],
   "source": [
    "str_month_df = get_month_price(\n",
    "    stock_id='1101',            # 股票名稱\n",
    "    year='2022',                # 年份\n",
    "    month='4'                   # 月份\n",
    ")\n",
    "str_month_df.head()"
   ]
  },
  {
   "cell_type": "markdown",
   "id": "1dcefffa-8641-480d-943a-c97234b23fca",
   "metadata": {},
   "source": [
    "而如果是想爬取日資料你可以使用*get_day_price*函數:"
   ]
  },
  {
   "cell_type": "code",
   "execution_count": 2,
   "id": "1a36ab8e-1fe1-4ec3-b98a-1148f1bb8677",
   "metadata": {},
   "outputs": [
    {
     "data": {
      "text/html": [
       "<div>\n",
       "<style scoped>\n",
       "    .dataframe tbody tr th:only-of-type {\n",
       "        vertical-align: middle;\n",
       "    }\n",
       "\n",
       "    .dataframe tbody tr th {\n",
       "        vertical-align: top;\n",
       "    }\n",
       "\n",
       "    .dataframe thead th {\n",
       "        text-align: right;\n",
       "    }\n",
       "</style>\n",
       "<table border=\"1\" class=\"dataframe\">\n",
       "  <thead>\n",
       "    <tr style=\"text-align: right;\">\n",
       "      <th></th>\n",
       "      <th>date</th>\n",
       "      <th>volume</th>\n",
       "      <th>value</th>\n",
       "      <th>open</th>\n",
       "      <th>high</th>\n",
       "      <th>low</th>\n",
       "      <th>close</th>\n",
       "      <th>record</th>\n",
       "      <th>stock_id</th>\n",
       "    </tr>\n",
       "  </thead>\n",
       "  <tbody>\n",
       "    <tr>\n",
       "      <th>0</th>\n",
       "      <td>2022-04-01</td>\n",
       "      <td>9917831</td>\n",
       "      <td>493504834</td>\n",
       "      <td>49.7</td>\n",
       "      <td>50.0</td>\n",
       "      <td>49.45</td>\n",
       "      <td>49.75</td>\n",
       "      <td>7457</td>\n",
       "      <td>1101</td>\n",
       "    </tr>\n",
       "  </tbody>\n",
       "</table>\n",
       "</div>"
      ],
      "text/plain": [
       "         date   volume      value  open  high    low  close  record stock_id\n",
       "0  2022-04-01  9917831  493504834  49.7  50.0  49.45  49.75    7457     1101"
      ]
     },
     "execution_count": 2,
     "metadata": {},
     "output_type": "execute_result"
    }
   ],
   "source": [
    "from crawler_tool import get_day_price\n",
    "\n",
    "day_df = get_day_price(\n",
    "    stock_id='1101',        # 股票名稱\n",
    "    year=2022,              # 年份\n",
    "    month=4                 # 月份\n",
    "    day=1                   # 日期\n",
    ")\n",
    "day_df"
   ]
  },
  {
   "cell_type": "markdown",
   "id": "9a6f77d8-26ad-4ef9-8605-eb94563c739c",
   "metadata": {},
   "source": [
    "當爬蟲爬取成功時，會回傳DataFrame型態的股價資料。\n",
    "\n",
    "而當爬蟲抓取失敗時，爬蟲會回傳預設的值(None)，如果你想自己決定回傳值，你可以使用*fail_return*參數:"
   ]
  },
  {
   "cell_type": "code",
   "execution_count": 6,
   "id": "13c2da44-38a6-4e7b-8fd1-13abc385f893",
   "metadata": {},
   "outputs": [
    {
     "data": {
      "text/plain": [
       "'crawler fail'"
      ]
     },
     "execution_count": 6,
     "metadata": {},
     "output_type": "execute_result"
    }
   ],
   "source": [
    "fail_return = get_day_price(\n",
    "    stock_id='0000', # 不存在的股票\n",
    "    year='2000',\n",
    "    month='12',\n",
    "    day='21',\n",
    "    fail_return='crawler fail'\n",
    ")\n",
    "fail_return"
   ]
  },
  {
   "cell_type": "markdown",
   "id": "b776bc90-73de-417e-b5b8-119383dbdd14",
   "metadata": {},
   "source": [
    "***\n",
    "### 錯誤發生的條件\n",
    "\n",
    "有幾種情況會使得爬蟲抓取失敗:\n",
    "1. 不存在相關的資料，比如抓取了不存在的股票號碼。\n",
    "2. 爬取的請求被網站拒絕，可能是爬取的時間間隔過短，後面將介紹如何調整。\n",
    "3. 格式解析失敗，網站回傳的資料爬蟲無法解析成正確的格式。\n",
    "\n",
    "不管是何種情況發生時，爬蟲都會在當前目錄下生成紀錄該錯誤log文件。\n",
    "如果是第1,2種錯誤會保存到stock_crawler_error.log，而格式解析失敗的錯誤會保存到format_error.log文件中。"
   ]
  },
  {
   "cell_type": "markdown",
   "id": "1c2d54d1-3f43-4da7-9ea9-7021b9ce4dd3",
   "metadata": {},
   "source": [
    "***\n",
    "### 爬蟲的執行步驟\n",
    "\n",
    "而當錯誤發生時，爬蟲並不會立刻結束。爬蟲會進行第二次的爬取，直到成功或是已經爬取了指定的次數。一般而言，爬蟲最多會爬取5次，每次之間會進行3秒的間隔時間。\n",
    "爬蟲的爬取會遵循以下幾個步驟:\n",
    "1. 如果已經爬取了5次則直接結束\n",
    "2. 爬取資料\n",
    "3. 如果爬取失敗，則紀錄錯誤到指定的log文件中，並到(7)\n",
    "4. 對資料進行格式解析\n",
    "5. 如果解析失敗，則紀錄錯誤到指定的log文件中，並到(7)\n",
    "6. 回傳解析後的資料\n",
    "7. 暫停3秒後回到(1)"
   ]
  },
  {
   "cell_type": "markdown",
   "id": "0372a3bb-dd69-4fa2-85c3-cc19ee2f669e",
   "metadata": {},
   "source": [
    "到這裡你已經會使用crawler_tool的爬蟲函數抓取資料了，下面會介紹crawler_tool有哪些工具可以幫助你實做出更多的爬蟲函數。"
   ]
  },
  {
   "cell_type": "markdown",
   "id": "5f32c1eb-81fd-4874-8910-f5a8f0115ef3",
   "metadata": {},
   "source": [
    "***\n",
    "## crawler_tool包內建的工具\n",
    "\n",
    "首先我們先來看看crawler_tool包裡面有哪些檔案，以及他們在包裡扮演了什麼角色:\n",
    "* crawlers.py: 提供了大量爬蟲函數\n",
    "* crawler_decorator.py: 提供了輔助爬蟲函數的工具\n",
    "* twse_stock_day_crawler.py: 基於前面兩個工具的爬蟲實作\n",
    "\n",
    "下面我們將一個一個介紹。\n",
    "\n",
    "***\n",
    "\n",
    "### crawlers.py\n",
    "\n",
    "該檔案中內建了許多爬蟲函數可以爬取資料\n",
    "\n",
    "比如你可以使用*get_latest_trading_days*來取得最近的一次交易日的日期:"
   ]
  },
  {
   "cell_type": "code",
   "execution_count": 12,
   "id": "4189f51f-2ec6-4a36-a5eb-fdb9a299d987",
   "metadata": {},
   "outputs": [
    {
     "data": {
      "text/plain": [
       "'20220426'"
      ]
     },
     "execution_count": 12,
     "metadata": {},
     "output_type": "execute_result"
    }
   ],
   "source": [
    "from crawler_tool import get_latest_trading_days\n",
    "\n",
    "get_latest_trading_days()"
   ]
  },
  {
   "cell_type": "markdown",
   "id": "c3d6eb47-9981-40b2-afa5-81a76285ff48",
   "metadata": {},
   "source": [
    "但有一點是需要注意的，那就是使用crawlers.py裡面的爬蟲在報錯時並不會像前面介紹的get_month_price那樣紀錄錯誤後重跑個5次。而是直接報錯，然後程式停止。\n",
    "之所以有這樣的不同是因為「紀錄錯誤後重跑個5次」這功能是實作在crawler_decorator.py中的。\n",
    "\n",
    "而*get_month_price*正是使用了crawlers.py中的*get_stock_month_price*函數加上crawler_decorator.py中紀錄報錯功能實現的，你甚至可以呼叫看看原始輸出長什麼樣。"
   ]
  },
  {
   "cell_type": "code",
   "execution_count": 58,
   "id": "c7af5128-85b4-4e59-8f75-e782dc0bf4e4",
   "metadata": {
    "collapsed": true,
    "jupyter": {
     "outputs_hidden": true
    },
    "tags": []
   },
   "outputs": [
    {
     "data": {
      "text/plain": [
       "{'stat': 'OK',\n",
       " 'date': '20220101',\n",
       " 'title': '111年01月 1101 台泥             各日成交資訊',\n",
       " 'fields': ['日期', '成交股數', '成交金額', '開盤價', '最高價', '最低價', '收盤價', '漲跌價差', '成交筆數'],\n",
       " 'data': [['111/01/03',\n",
       "   '12,539,636',\n",
       "   '597,825,872',\n",
       "   '48.05',\n",
       "   '48.15',\n",
       "   '47.35',\n",
       "   '47.45',\n",
       "   '-0.55',\n",
       "   '7,502'],\n",
       "  ['111/01/04',\n",
       "   '11,582,787',\n",
       "   '546,668,986',\n",
       "   '47.50',\n",
       "   '47.60',\n",
       "   '47.00',\n",
       "   '47.30',\n",
       "   '-0.15',\n",
       "   '8,038'],\n",
       "  ['111/01/05',\n",
       "   '12,283,179',\n",
       "   '579,369,726',\n",
       "   '47.10',\n",
       "   '47.30',\n",
       "   '47.00',\n",
       "   '47.15',\n",
       "   '-0.15',\n",
       "   '6,147'],\n",
       "  ['111/01/06',\n",
       "   '12,468,214',\n",
       "   '590,435,369',\n",
       "   '47.30',\n",
       "   '47.60',\n",
       "   '47.15',\n",
       "   '47.60',\n",
       "   '+0.45',\n",
       "   '6,576'],\n",
       "  ['111/01/07',\n",
       "   '11,036,127',\n",
       "   '522,523,832',\n",
       "   '47.60',\n",
       "   '47.65',\n",
       "   '47.20',\n",
       "   '47.45',\n",
       "   '-0.15',\n",
       "   '6,945'],\n",
       "  ['111/01/10',\n",
       "   '12,136,515',\n",
       "   '572,075,164',\n",
       "   '47.45',\n",
       "   '47.50',\n",
       "   '47.00',\n",
       "   '47.30',\n",
       "   '-0.15',\n",
       "   '8,558'],\n",
       "  ['111/01/11',\n",
       "   '11,147,705',\n",
       "   '526,597,589',\n",
       "   '47.10',\n",
       "   '47.50',\n",
       "   '47.10',\n",
       "   '47.50',\n",
       "   '+0.20',\n",
       "   '6,559'],\n",
       "  ['111/01/12',\n",
       "   '10,891,460',\n",
       "   '514,936,656',\n",
       "   '47.50',\n",
       "   '47.50',\n",
       "   '47.10',\n",
       "   '47.50',\n",
       "   ' 0.00',\n",
       "   '6,804'],\n",
       "  ['111/01/13',\n",
       "   '13,905,887',\n",
       "   '662,550,194',\n",
       "   '47.50',\n",
       "   '47.95',\n",
       "   '47.40',\n",
       "   '47.95',\n",
       "   '+0.45',\n",
       "   '6,389'],\n",
       "  ['111/01/14',\n",
       "   '9,517,206',\n",
       "   '452,812,580',\n",
       "   '47.85',\n",
       "   '47.85',\n",
       "   '47.45',\n",
       "   '47.60',\n",
       "   '-0.35',\n",
       "   '5,373'],\n",
       "  ['111/01/17',\n",
       "   '9,135,562',\n",
       "   '433,784,449',\n",
       "   '47.55',\n",
       "   '47.70',\n",
       "   '47.35',\n",
       "   '47.60',\n",
       "   ' 0.00',\n",
       "   '8,042'],\n",
       "  ['111/01/18',\n",
       "   '8,152,546',\n",
       "   '387,725,879',\n",
       "   '47.60',\n",
       "   '47.75',\n",
       "   '47.45',\n",
       "   '47.75',\n",
       "   '+0.15',\n",
       "   '4,748'],\n",
       "  ['111/01/19',\n",
       "   '5,155,877',\n",
       "   '245,372,405',\n",
       "   '47.60',\n",
       "   '47.70',\n",
       "   '47.50',\n",
       "   '47.60',\n",
       "   '-0.15',\n",
       "   '3,689'],\n",
       "  ['111/01/20',\n",
       "   '6,369,636',\n",
       "   '302,796,259',\n",
       "   '47.55',\n",
       "   '47.70',\n",
       "   '47.45',\n",
       "   '47.50',\n",
       "   '-0.10',\n",
       "   '3,066'],\n",
       "  ['111/01/21',\n",
       "   '9,546,706',\n",
       "   '451,696,046',\n",
       "   '47.50',\n",
       "   '47.65',\n",
       "   '47.15',\n",
       "   '47.40',\n",
       "   '-0.10',\n",
       "   '4,779'],\n",
       "  ['111/01/24',\n",
       "   '5,535,224',\n",
       "   '260,992,721',\n",
       "   '47.10',\n",
       "   '47.30',\n",
       "   '47.00',\n",
       "   '47.15',\n",
       "   '-0.25',\n",
       "   '3,572'],\n",
       "  ['111/01/25',\n",
       "   '16,429,917',\n",
       "   '767,993,493',\n",
       "   '47.00',\n",
       "   '47.05',\n",
       "   '46.60',\n",
       "   '46.80',\n",
       "   '-0.35',\n",
       "   '11,857'],\n",
       "  ['111/01/26',\n",
       "   '7,858,213',\n",
       "   '368,020,594',\n",
       "   '46.70',\n",
       "   '47.00',\n",
       "   '46.55',\n",
       "   '46.85',\n",
       "   '+0.05',\n",
       "   '6,316']],\n",
       " 'notes': ['符號說明:+/-/X表示漲/跌/不比價',\n",
       "  '當日統計資訊含一般、零股、盤後定價、鉅額交易，不含拍賣、標購。',\n",
       "  'ETF證券代號第六碼為K、M、S、C者，表示該ETF以外幣交易。']}"
      ]
     },
     "execution_count": 58,
     "metadata": {},
     "output_type": "execute_result"
    }
   ],
   "source": [
    "import crawler_tool.crawlers as crawlers\n",
    "\n",
    "month_price=crawlers.get_stock_month_price(\n",
    "    stock_id='1101',\n",
    "    year='2022',\n",
    "    month='01'\n",
    ")\n",
    "month_price"
   ]
  },
  {
   "cell_type": "markdown",
   "id": "80787fb2-1b97-4cad-95b3-ad6b57b8ab77",
   "metadata": {
    "tags": []
   },
   "source": [
    "***\n",
    "下面列舉了其他crawlers.py中的函數:\n",
    "\n",
    "* get_stock_id_list( ) *# 取得上市股票名單*\n",
    "\n",
    "* get_etf_id_list( )   *# 取得etf名單*\n",
    "\n",
    "* get_otc_id_list( )   *# 取得上櫃股票名單*\n",
    "\n",
    "* get_0050_list( )     *# 取得0050成份股名單*\n",
    "\n",
    "* get_latest_trading_days( ) *# 取得目前最新的交易日日期*\n",
    "\n",
    "* get_stock_month_price(stock_id, year, month) *# 取得股票的某月的股價資料*"
   ]
  },
  {
   "cell_type": "markdown",
   "id": "76ca6239-ef24-423a-817c-0159bf9e14b7",
   "metadata": {},
   "source": [
    "***\n",
    "\n",
    "### crawler_decorator.py\n",
    "\n",
    "在該檔案中將爬蟲常會用到的功能編寫成裝飾器的形式以方便開發。\n",
    "\n",
    "以紀錄錯誤訊息為例，在使用爬蟲爬取網站資料的時候常常會遇到連線被拒的情況，這在普通的小實驗中可能沒什麼，但遇到需要大量爬取資料的情況就完全不同了。比如爬取台股資料，中途還好好的，突然在爬取到某隻股票突然報錯，不僅中斷了整套爬取流程，還造成後續收拾的麻煩。\n",
    "\n",
    "這時候你就可以使用record_error_decorator裝飾器，該裝飾器可以將錯誤訊息保存到指定的檔案中，並回傳一個*run_func_error*類的實例，如果保存錯誤訊息時發生無法寫入檔案的情況，則會回傳一個*record_log_error*類的實例。\n",
    "\n",
    "下面我們就用一個會隨機拋出錯誤的函數*rand_raise_error*來看看這一切是如何運作的，我們將錯誤訊息保存到rand_func.log檔案中。"
   ]
  },
  {
   "cell_type": "code",
   "execution_count": 45,
   "id": "904cd32d-6416-41b5-83cb-08f0d5b7697f",
   "metadata": {},
   "outputs": [],
   "source": [
    "from crawler_tool import record_error_decorator\n",
    "from random import random\n",
    "\n",
    "# 使用裝飾器將錯誤保存到指定log檔案中\n",
    "@record_error_decorator(log_path='rand_func.log')\n",
    "def rand_raise_error():\n",
    "    n=random()\n",
    "    if n>0.5:\n",
    "        # 隨機拋出一個錯誤\n",
    "        raise ValueError(f\"random>0.5\")\n",
    "    return n"
   ]
  },
  {
   "cell_type": "markdown",
   "id": "4bce1483-2f08-40c4-b836-33248e8c0dc7",
   "metadata": {},
   "source": [
    "然後我們循環呼叫10次，並將*rand_raise_error*的回傳值打印出來，我們會發現當函數沒有報錯時，裝飾器會回傳正確的回傳值，而當報錯時會回傳*run_func_error*。"
   ]
  },
  {
   "cell_type": "code",
   "execution_count": 49,
   "id": "1e63e897-7e33-43ba-9e22-e8fcdefe297c",
   "metadata": {
    "tags": []
   },
   "outputs": [
    {
     "name": "stdout",
     "output_type": "stream",
     "text": [
      "0 0.09126510786338149\n",
      "1 <crawler_tool.crawler_decorator.run_func_error object at 0x7f45d6dc9100>\n",
      "2 0.05924293102474665\n",
      "3 0.08594711245744047\n",
      "4 0.40891756028474713\n",
      "5 0.09208180878285765\n",
      "6 <crawler_tool.crawler_decorator.run_func_error object at 0x7f45d6b34790>\n",
      "7 <crawler_tool.crawler_decorator.run_func_error object at 0x7f45d6b34b20>\n",
      "8 <crawler_tool.crawler_decorator.run_func_error object at 0x7f45d6b341f0>\n",
      "9 <crawler_tool.crawler_decorator.run_func_error object at 0x7f45d6b34550>\n"
     ]
    }
   ],
   "source": [
    "for i in range(10):\n",
    "    ret=rand_raise_error()\n",
    "    print(i, ret)"
   ]
  },
  {
   "cell_type": "markdown",
   "id": "2aed64ba-1307-4766-a37a-7c34256125c2",
   "metadata": {},
   "source": [
    "如果要同時辦別回傳的是不是*run_func_error*或是*record_log_error*可以檢查該回傳是不是*decorator_error*的子類。\n",
    "\n",
    "最後我們將保存到rand_func.log檔案中的錯誤訊息讀取出來。"
   ]
  },
  {
   "cell_type": "code",
   "execution_count": 50,
   "id": "313db306-9217-4686-bade-682a11a462a8",
   "metadata": {
    "tags": []
   },
   "outputs": [
    {
     "name": "stdout",
     "output_type": "stream",
     "text": [
      "[20220426 20:18:59] rand_raise_error : random>0.5\n",
      "\n",
      "[20220426 20:18:59] rand_raise_error : random>0.5\n",
      "\n",
      "[20220426 20:18:59] rand_raise_error : random>0.5\n",
      "\n",
      "[20220426 20:18:59] rand_raise_error : random>0.5\n",
      "\n",
      "[20220426 20:18:59] rand_raise_error : random>0.5\n",
      "\n"
     ]
    }
   ],
   "source": [
    "with open('rand_func.log', 'r') as f:\n",
    "    for line_str in f.readlines():\n",
    "        print(line_str)"
   ]
  },
  {
   "cell_type": "markdown",
   "id": "cf0280b0-677e-402b-9fc0-469c03451780",
   "metadata": {},
   "source": [
    "如果我們繼續執行*rand_raise_error*函數，那麼新的錯誤將會被不斷添加到檔案中。\n",
    "\n",
    "下面是紀錄的格式:\n",
    "\n",
    "    [紀錄時間] 函數名稱 額外紀錄資訊 : 錯誤訊息\n",
    "    \n",
    "你可能會想問**額外紀錄資訊**是什麼？\n",
    "\n",
    "我們可以通過在函數中加入一個 *_message* 參數來將需要額外紀錄到log檔中的資訊加入到其中。比如我們可以紀錄是跑第幾次發生的錯誤:"
   ]
  },
  {
   "cell_type": "code",
   "execution_count": 51,
   "id": "12076cfd-93b4-47c4-be15-b20f4060917a",
   "metadata": {},
   "outputs": [
    {
     "name": "stdout",
     "output_type": "stream",
     "text": [
      "0 <crawler_tool.crawler_decorator.run_func_error object at 0x7f45d5a64ca0>\n",
      "1 <crawler_tool.crawler_decorator.run_func_error object at 0x7f45d5a64b20>\n",
      "2 <crawler_tool.crawler_decorator.run_func_error object at 0x7f45d5a64970>\n",
      "3 <crawler_tool.crawler_decorator.run_func_error object at 0x7f45d6b348e0>\n",
      "4 0.32029953539288125\n",
      "5 0.18570067095780607\n",
      "6 0.49039423248352043\n",
      "7 0.24157444876364387\n",
      "8 <crawler_tool.crawler_decorator.run_func_error object at 0x7f45d6b340d0>\n",
      "9 0.371367193176363\n"
     ]
    }
   ],
   "source": [
    "for i in range(10):\n",
    "    ret=rand_raise_error(_message=i)\n",
    "    print(i, ret)"
   ]
  },
  {
   "cell_type": "markdown",
   "id": "08993625-3bb8-4b2f-9eb7-d81c079511bf",
   "metadata": {},
   "source": [
    "我們可以發現函數在執行到第0,1,2,3,8次時發生了錯誤，我們可以打開log檔檢查看看是不是如此。\n",
    "\n",
    "我們可以發現次數的資訊已經被保存到*額外紀錄資訊*的位置上了。"
   ]
  },
  {
   "cell_type": "code",
   "execution_count": 52,
   "id": "8882eaa9-cca7-4cf7-95d1-044d735f9827",
   "metadata": {},
   "outputs": [
    {
     "name": "stdout",
     "output_type": "stream",
     "text": [
      "[20220426 20:18:59] rand_raise_error : random>0.5\n",
      "\n",
      "[20220426 20:18:59] rand_raise_error : random>0.5\n",
      "\n",
      "[20220426 20:18:59] rand_raise_error : random>0.5\n",
      "\n",
      "[20220426 20:18:59] rand_raise_error : random>0.5\n",
      "\n",
      "[20220426 20:18:59] rand_raise_error : random>0.5\n",
      "\n",
      "[20220426 20:27:05] rand_raise_error 0: random>0.5\n",
      "\n",
      "[20220426 20:27:05] rand_raise_error 1: random>0.5\n",
      "\n",
      "[20220426 20:27:05] rand_raise_error 2: random>0.5\n",
      "\n",
      "[20220426 20:27:05] rand_raise_error 3: random>0.5\n",
      "\n",
      "[20220426 20:27:05] rand_raise_error 8: random>0.5\n",
      "\n"
     ]
    }
   ],
   "source": [
    "with open('rand_func.log', 'r') as f:\n",
    "    for line_str in f.readlines():\n",
    "        print(line_str)"
   ]
  },
  {
   "cell_type": "markdown",
   "id": "58726bd6-7a4d-46f2-b893-aaa97a9f36df",
   "metadata": {},
   "source": [
    "***\n",
    "\n",
    "在crawler_decorator.py還有其他兩種解釋器分別是:\n",
    "\n",
    "*`try_loop_decorator(times=3, sleep_time=2)`*\n",
    "\n",
    "    當接受到函數回傳的值為decorator_error的子類時，會暫停sleep_time秒後再重新運行函數，最多times次。如果到最後函數的回傳依然是decorator_error的子類，則直接回傳。\n",
    "\n",
    "*`backup_decorator(backup_path)`*\n",
    "\n",
    "    當函數回傳的值為decorator_error的子類時，讀取backup_path路徑中的pickle檔案的內容當作回傳。如果函數回傳的值不是decorator_error的子類時，則將回傳值覆蓋掉backup_path路徑中的pickle檔案的內容。如果backup_path路徑中的pickle檔案不存在則直接建立檔案。\n",
    "    \n",
    "恭喜你已經看完全部的內容了，下面是一個爬取0050成分股爬蟲的範例。"
   ]
  },
  {
   "cell_type": "markdown",
   "id": "2dbe19d0-201c-4a3d-add8-0a4d971dcd86",
   "metadata": {},
   "source": [
    "***\n",
    "\n",
    "## 爬取0050成分股爬蟲的範例"
   ]
  },
  {
   "cell_type": "code",
   "execution_count": 55,
   "id": "3f72f523-213e-4c79-b55d-5455be3a1d15",
   "metadata": {},
   "outputs": [],
   "source": [
    "from crawler_tool import record_error_decorator\n",
    "from crawler_tool import backup_decorator\n",
    "from crawler_tool import get_0050_list\n",
    "\n",
    "# 成分股名單備份路徑\n",
    "list_backup_path='backup_0050list.pickle'\n",
    "\n",
    "# 錯誤訊息保存路徑\n",
    "error_log_path='0050_list_error.log'\n",
    "\n",
    "@backup_decorator(backup_path=list_backup_path)\n",
    "@record_error_decorator(log_path=error_log_path)\n",
    "def get_stock_list():\n",
    "    return get_0050_list()"
   ]
  }
 ],
 "metadata": {
  "kernelspec": {
   "display_name": "Python 3 (ipykernel)",
   "language": "python",
   "name": "python3"
  },
  "language_info": {
   "codemirror_mode": {
    "name": "ipython",
    "version": 3
   },
   "file_extension": ".py",
   "mimetype": "text/x-python",
   "name": "python",
   "nbconvert_exporter": "python",
   "pygments_lexer": "ipython3",
   "version": "3.9.12"
  }
 },
 "nbformat": 4,
 "nbformat_minor": 5
}
