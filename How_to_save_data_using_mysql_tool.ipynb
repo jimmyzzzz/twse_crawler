{
 "cells": [
  {
   "cell_type": "markdown",
   "id": "bf7bb56e-a15e-4397-98c7-ed93afe8a344",
   "metadata": {},
   "source": [
    "# 如何使用mysql_tool操作資料庫\n",
    "\n",
    "\n",
    "在本篇中你會瞭解到:\n",
    "1. 如何使用staff_tab_portal連接資料庫\n",
    "2. 如何使用crawler_tool查詢資料表的資料\n",
    "3. 如何使用mysql_tool插入資料到資料表\n",
    "4. 如何使用mysql_interface建立連接界面\n",
    "\n",
    "在開始之前請先確認你有MySQL Server可以使用，如果想要自己架設的話可以參考這篇:[Install_MySQL_Server_on_the_kubuntu](https://github.com/jimmyzzzz/Install_MySQL_Server_on_the_kubuntu)\n",
    "\n",
    "全篇中會使用到的MySQL Server資料庫的設定如下:\n",
    "* HOST: 192.167.0.103\n",
    "* 用戶名: testuser\n",
    "* 密碼: 123\n",
    "* 資料庫: stock_db\n",
    "* 資料表: staff_tab, twse_pv"
   ]
  },
  {
   "cell_type": "markdown",
   "id": "c38a7cfe-9b6a-4634-af2e-6511d6959836",
   "metadata": {},
   "source": [
    "***\n",
    "\n",
    "## 連接資料庫\n",
    "\n",
    "我們可以使用*staff_tab_portal*連接資料庫*stock_db*中的資料表*staff_tab*，你會發現我們只需要輸入用戶名跟密碼，剩下的部份已經幫你預設好了。"
   ]
  },
  {
   "cell_type": "code",
   "execution_count": 1,
   "id": "73005a9d-7d05-4775-93cd-eab9c359dfc7",
   "metadata": {},
   "outputs": [],
   "source": [
    "from mysql_tool import staff_tab_portal\n",
    "\n",
    "staff_tab=staff_tab_portal(user='testuser', password='123')"
   ]
  },
  {
   "cell_type": "markdown",
   "id": "e69021a6-7675-441c-8895-f8244c5c8623",
   "metadata": {},
   "source": [
    "同理我們如果需要連接資料表*twse_pv*只需要呼叫對應的類*staff_tab_portal*即可。"
   ]
  },
  {
   "cell_type": "code",
   "execution_count": 2,
   "id": "9eac4ce5-0947-4fd3-8441-c49bc7c6c3e9",
   "metadata": {},
   "outputs": [],
   "source": [
    "from mysql_tool import twse_pv_portal\n",
    "\n",
    "twse_tab=twse_pv_portal(user='testuser', password='123')"
   ]
  },
  {
   "cell_type": "markdown",
   "id": "4d81ceef-d188-4a0a-ba34-87d1a9d2c700",
   "metadata": {},
   "source": [
    "連接資料後，會回傳一個資料表的操作界面。使用者可以使用該界面做查詢資料或插入資料等MySQL操作。"
   ]
  },
  {
   "cell_type": "markdown",
   "id": "9260267a-79a5-4dd6-84db-921231fd365c",
   "metadata": {},
   "source": [
    "***\n",
    "\n",
    "## 查看資料表資訊\n",
    "\n",
    "在使用資料表時，不免有時要查看資料的一些基本資料，例如:欄位或是資料表的資料筆數等等。如果使用*mysql_tool*可以使用下面的方式查看這些基本資料:\n",
    "\n",
    "查看資料表有哪些欄位:"
   ]
  },
  {
   "cell_type": "code",
   "execution_count": 19,
   "id": "0df32438-e146-45f1-b697-d9d6e292b94e",
   "metadata": {},
   "outputs": [
    {
     "data": {
      "text/plain": [
       "['ID', 'birthday', 'age', 'tall']"
      ]
     },
     "execution_count": 19,
     "metadata": {},
     "output_type": "execute_result"
    }
   ],
   "source": [
    "staff_tab.columns"
   ]
  },
  {
   "cell_type": "markdown",
   "id": "5db21778-2250-49ed-b916-5a3ad3a124e6",
   "metadata": {},
   "source": [
    "查看資料表欄位的詳細資訊:"
   ]
  },
  {
   "cell_type": "code",
   "execution_count": 21,
   "id": "f46f23be-6460-4d45-a1bc-e8c79f4663c4",
   "metadata": {},
   "outputs": [
    {
     "data": {
      "text/html": [
       "<div>\n",
       "<style scoped>\n",
       "    .dataframe tbody tr th:only-of-type {\n",
       "        vertical-align: middle;\n",
       "    }\n",
       "\n",
       "    .dataframe tbody tr th {\n",
       "        vertical-align: top;\n",
       "    }\n",
       "\n",
       "    .dataframe thead th {\n",
       "        text-align: right;\n",
       "    }\n",
       "</style>\n",
       "<table border=\"1\" class=\"dataframe\">\n",
       "  <thead>\n",
       "    <tr style=\"text-align: right;\">\n",
       "      <th></th>\n",
       "      <th>Field</th>\n",
       "      <th>Type</th>\n",
       "      <th>Null</th>\n",
       "      <th>Key</th>\n",
       "      <th>Default</th>\n",
       "      <th>Extra</th>\n",
       "    </tr>\n",
       "  </thead>\n",
       "  <tbody>\n",
       "    <tr>\n",
       "      <th>0</th>\n",
       "      <td>ID</td>\n",
       "      <td>int</td>\n",
       "      <td>NO</td>\n",
       "      <td>PRI</td>\n",
       "      <td>None</td>\n",
       "      <td>auto_increment</td>\n",
       "    </tr>\n",
       "    <tr>\n",
       "      <th>1</th>\n",
       "      <td>birthday</td>\n",
       "      <td>date</td>\n",
       "      <td>YES</td>\n",
       "      <td></td>\n",
       "      <td>None</td>\n",
       "      <td></td>\n",
       "    </tr>\n",
       "    <tr>\n",
       "      <th>2</th>\n",
       "      <td>age</td>\n",
       "      <td>int</td>\n",
       "      <td>YES</td>\n",
       "      <td></td>\n",
       "      <td>None</td>\n",
       "      <td></td>\n",
       "    </tr>\n",
       "    <tr>\n",
       "      <th>3</th>\n",
       "      <td>tall</td>\n",
       "      <td>decimal(9,3)</td>\n",
       "      <td>YES</td>\n",
       "      <td></td>\n",
       "      <td>None</td>\n",
       "      <td></td>\n",
       "    </tr>\n",
       "  </tbody>\n",
       "</table>\n",
       "</div>"
      ],
      "text/plain": [
       "      Field          Type Null  Key Default           Extra\n",
       "0        ID           int   NO  PRI    None  auto_increment\n",
       "1  birthday          date  YES         None                \n",
       "2       age           int  YES         None                \n",
       "3      tall  decimal(9,3)  YES         None                "
      ]
     },
     "execution_count": 21,
     "metadata": {},
     "output_type": "execute_result"
    }
   ],
   "source": [
    "staff_tab.columns_info"
   ]
  },
  {
   "cell_type": "markdown",
   "id": "a822c342-c22e-4d47-b493-627171b7e633",
   "metadata": {},
   "source": [
    "查看資料表有幾筆資料:"
   ]
  },
  {
   "cell_type": "code",
   "execution_count": 23,
   "id": "5248523b-2e45-44f0-8db3-8d60d211aa76",
   "metadata": {},
   "outputs": [
    {
     "data": {
      "text/plain": [
       "7"
      ]
     },
     "execution_count": 23,
     "metadata": {},
     "output_type": "execute_result"
    }
   ],
   "source": [
    "len(staff_tab)"
   ]
  },
  {
   "cell_type": "markdown",
   "id": "6f0a70ae-1f71-40af-8696-994e494cf5b5",
   "metadata": {},
   "source": [
    "***\n",
    "\n",
    "## 查詢資料表\n",
    "\n",
    "要查看資料表的內容可以像使用*list*或*dict*一樣在中括號中輸入查詢的內容就會回傳相應的*DataFrame*資料。\n",
    "\n",
    "查詢全部資料:"
   ]
  },
  {
   "cell_type": "code",
   "execution_count": 24,
   "id": "5cf050fe-5360-48c6-924a-90efe4cd5289",
   "metadata": {},
   "outputs": [
    {
     "data": {
      "text/html": [
       "<div>\n",
       "<style scoped>\n",
       "    .dataframe tbody tr th:only-of-type {\n",
       "        vertical-align: middle;\n",
       "    }\n",
       "\n",
       "    .dataframe tbody tr th {\n",
       "        vertical-align: top;\n",
       "    }\n",
       "\n",
       "    .dataframe thead th {\n",
       "        text-align: right;\n",
       "    }\n",
       "</style>\n",
       "<table border=\"1\" class=\"dataframe\">\n",
       "  <thead>\n",
       "    <tr style=\"text-align: right;\">\n",
       "      <th></th>\n",
       "      <th>ID</th>\n",
       "      <th>birthday</th>\n",
       "      <th>age</th>\n",
       "      <th>tall</th>\n",
       "    </tr>\n",
       "  </thead>\n",
       "  <tbody>\n",
       "    <tr>\n",
       "      <th>0</th>\n",
       "      <td>1</td>\n",
       "      <td>2022-01-01</td>\n",
       "      <td>18.0</td>\n",
       "      <td>160.16</td>\n",
       "    </tr>\n",
       "    <tr>\n",
       "      <th>1</th>\n",
       "      <td>2</td>\n",
       "      <td>2022-01-02</td>\n",
       "      <td>19.0</td>\n",
       "      <td>NaN</td>\n",
       "    </tr>\n",
       "    <tr>\n",
       "      <th>2</th>\n",
       "      <td>3</td>\n",
       "      <td>2022-01-03</td>\n",
       "      <td>NaN</td>\n",
       "      <td>180.18</td>\n",
       "    </tr>\n",
       "    <tr>\n",
       "      <th>3</th>\n",
       "      <td>4</td>\n",
       "      <td>2022-01-04</td>\n",
       "      <td>21.0</td>\n",
       "      <td>118.01</td>\n",
       "    </tr>\n",
       "    <tr>\n",
       "      <th>4</th>\n",
       "      <td>5</td>\n",
       "      <td>2022-01-05</td>\n",
       "      <td>22.0</td>\n",
       "      <td>178.00</td>\n",
       "    </tr>\n",
       "    <tr>\n",
       "      <th>5</th>\n",
       "      <td>6</td>\n",
       "      <td>2022-01-06</td>\n",
       "      <td>23.0</td>\n",
       "      <td>160.00</td>\n",
       "    </tr>\n",
       "    <tr>\n",
       "      <th>6</th>\n",
       "      <td>7</td>\n",
       "      <td>2022-01-07</td>\n",
       "      <td>NaN</td>\n",
       "      <td>NaN</td>\n",
       "    </tr>\n",
       "  </tbody>\n",
       "</table>\n",
       "</div>"
      ],
      "text/plain": [
       "   ID    birthday   age    tall\n",
       "0   1  2022-01-01  18.0  160.16\n",
       "1   2  2022-01-02  19.0     NaN\n",
       "2   3  2022-01-03   NaN  180.18\n",
       "3   4  2022-01-04  21.0  118.01\n",
       "4   5  2022-01-05  22.0  178.00\n",
       "5   6  2022-01-06  23.0  160.00\n",
       "6   7  2022-01-07   NaN     NaN"
      ]
     },
     "execution_count": 24,
     "metadata": {},
     "output_type": "execute_result"
    }
   ],
   "source": [
    "staff_tab[:]"
   ]
  },
  {
   "cell_type": "markdown",
   "id": "38b089f6-d17b-4967-8358-95ca09eb233a",
   "metadata": {},
   "source": [
    "查詢第1筆資料:"
   ]
  },
  {
   "cell_type": "code",
   "execution_count": 3,
   "id": "c192b35a-ad04-414a-a4f0-bae2b8d9e91d",
   "metadata": {},
   "outputs": [
    {
     "data": {
      "text/html": [
       "<div>\n",
       "<style scoped>\n",
       "    .dataframe tbody tr th:only-of-type {\n",
       "        vertical-align: middle;\n",
       "    }\n",
       "\n",
       "    .dataframe tbody tr th {\n",
       "        vertical-align: top;\n",
       "    }\n",
       "\n",
       "    .dataframe thead th {\n",
       "        text-align: right;\n",
       "    }\n",
       "</style>\n",
       "<table border=\"1\" class=\"dataframe\">\n",
       "  <thead>\n",
       "    <tr style=\"text-align: right;\">\n",
       "      <th></th>\n",
       "      <th>ID</th>\n",
       "      <th>birthday</th>\n",
       "      <th>age</th>\n",
       "      <th>tall</th>\n",
       "    </tr>\n",
       "  </thead>\n",
       "  <tbody>\n",
       "    <tr>\n",
       "      <th>0</th>\n",
       "      <td>1</td>\n",
       "      <td>2022-01-01</td>\n",
       "      <td>18</td>\n",
       "      <td>160.16</td>\n",
       "    </tr>\n",
       "  </tbody>\n",
       "</table>\n",
       "</div>"
      ],
      "text/plain": [
       "   ID    birthday  age    tall\n",
       "0   1  2022-01-01   18  160.16"
      ]
     },
     "execution_count": 3,
     "metadata": {},
     "output_type": "execute_result"
    }
   ],
   "source": [
    "staff_tab[0]"
   ]
  },
  {
   "cell_type": "markdown",
   "id": "4a80663e-4ed9-47fe-afc2-6c7117a975de",
   "metadata": {},
   "source": [
    "查詢前3筆資料:"
   ]
  },
  {
   "cell_type": "code",
   "execution_count": 4,
   "id": "d7f8257e-1ea1-455d-93c3-e0f2784d0ab8",
   "metadata": {},
   "outputs": [
    {
     "data": {
      "text/html": [
       "<div>\n",
       "<style scoped>\n",
       "    .dataframe tbody tr th:only-of-type {\n",
       "        vertical-align: middle;\n",
       "    }\n",
       "\n",
       "    .dataframe tbody tr th {\n",
       "        vertical-align: top;\n",
       "    }\n",
       "\n",
       "    .dataframe thead th {\n",
       "        text-align: right;\n",
       "    }\n",
       "</style>\n",
       "<table border=\"1\" class=\"dataframe\">\n",
       "  <thead>\n",
       "    <tr style=\"text-align: right;\">\n",
       "      <th></th>\n",
       "      <th>ID</th>\n",
       "      <th>birthday</th>\n",
       "      <th>age</th>\n",
       "      <th>tall</th>\n",
       "    </tr>\n",
       "  </thead>\n",
       "  <tbody>\n",
       "    <tr>\n",
       "      <th>0</th>\n",
       "      <td>1</td>\n",
       "      <td>2022-01-01</td>\n",
       "      <td>18.0</td>\n",
       "      <td>160.16</td>\n",
       "    </tr>\n",
       "    <tr>\n",
       "      <th>1</th>\n",
       "      <td>2</td>\n",
       "      <td>2022-01-02</td>\n",
       "      <td>19.0</td>\n",
       "      <td>NaN</td>\n",
       "    </tr>\n",
       "    <tr>\n",
       "      <th>2</th>\n",
       "      <td>3</td>\n",
       "      <td>2022-01-03</td>\n",
       "      <td>NaN</td>\n",
       "      <td>180.18</td>\n",
       "    </tr>\n",
       "  </tbody>\n",
       "</table>\n",
       "</div>"
      ],
      "text/plain": [
       "   ID    birthday   age    tall\n",
       "0   1  2022-01-01  18.0  160.16\n",
       "1   2  2022-01-02  19.0     NaN\n",
       "2   3  2022-01-03   NaN  180.18"
      ]
     },
     "execution_count": 4,
     "metadata": {},
     "output_type": "execute_result"
    }
   ],
   "source": [
    "staff_tab[:3]"
   ]
  },
  {
   "cell_type": "markdown",
   "id": "0a798df1-b93a-4642-aa20-c1cd2703bd7f",
   "metadata": {},
   "source": [
    "查詢第2筆到最後一筆的資料:"
   ]
  },
  {
   "cell_type": "code",
   "execution_count": 5,
   "id": "d29c9565-a5cd-4cca-affa-885e3a07de7d",
   "metadata": {},
   "outputs": [
    {
     "data": {
      "text/html": [
       "<div>\n",
       "<style scoped>\n",
       "    .dataframe tbody tr th:only-of-type {\n",
       "        vertical-align: middle;\n",
       "    }\n",
       "\n",
       "    .dataframe tbody tr th {\n",
       "        vertical-align: top;\n",
       "    }\n",
       "\n",
       "    .dataframe thead th {\n",
       "        text-align: right;\n",
       "    }\n",
       "</style>\n",
       "<table border=\"1\" class=\"dataframe\">\n",
       "  <thead>\n",
       "    <tr style=\"text-align: right;\">\n",
       "      <th></th>\n",
       "      <th>ID</th>\n",
       "      <th>birthday</th>\n",
       "      <th>age</th>\n",
       "      <th>tall</th>\n",
       "    </tr>\n",
       "  </thead>\n",
       "  <tbody>\n",
       "    <tr>\n",
       "      <th>0</th>\n",
       "      <td>2</td>\n",
       "      <td>2022-01-02</td>\n",
       "      <td>19.0</td>\n",
       "      <td>NaN</td>\n",
       "    </tr>\n",
       "    <tr>\n",
       "      <th>1</th>\n",
       "      <td>3</td>\n",
       "      <td>2022-01-03</td>\n",
       "      <td>NaN</td>\n",
       "      <td>180.18</td>\n",
       "    </tr>\n",
       "    <tr>\n",
       "      <th>2</th>\n",
       "      <td>4</td>\n",
       "      <td>2022-01-04</td>\n",
       "      <td>21.0</td>\n",
       "      <td>118.01</td>\n",
       "    </tr>\n",
       "    <tr>\n",
       "      <th>3</th>\n",
       "      <td>5</td>\n",
       "      <td>2022-01-05</td>\n",
       "      <td>22.0</td>\n",
       "      <td>178.00</td>\n",
       "    </tr>\n",
       "    <tr>\n",
       "      <th>4</th>\n",
       "      <td>6</td>\n",
       "      <td>2022-01-06</td>\n",
       "      <td>23.0</td>\n",
       "      <td>160.00</td>\n",
       "    </tr>\n",
       "  </tbody>\n",
       "</table>\n",
       "</div>"
      ],
      "text/plain": [
       "   ID    birthday   age    tall\n",
       "0   2  2022-01-02  19.0     NaN\n",
       "1   3  2022-01-03   NaN  180.18\n",
       "2   4  2022-01-04  21.0  118.01\n",
       "3   5  2022-01-05  22.0  178.00\n",
       "4   6  2022-01-06  23.0  160.00"
      ]
     },
     "execution_count": 5,
     "metadata": {},
     "output_type": "execute_result"
    }
   ],
   "source": [
    "staff_tab[1:-1]"
   ]
  },
  {
   "cell_type": "markdown",
   "id": "93973a96-46ba-4a90-9d26-772a6c50a538",
   "metadata": {},
   "source": [
    "查詢*birthday*欄位的資料:"
   ]
  },
  {
   "cell_type": "code",
   "execution_count": 6,
   "id": "64dd9b64-f4ef-4a4a-a608-eeb96894b11e",
   "metadata": {},
   "outputs": [
    {
     "data": {
      "text/html": [
       "<div>\n",
       "<style scoped>\n",
       "    .dataframe tbody tr th:only-of-type {\n",
       "        vertical-align: middle;\n",
       "    }\n",
       "\n",
       "    .dataframe tbody tr th {\n",
       "        vertical-align: top;\n",
       "    }\n",
       "\n",
       "    .dataframe thead th {\n",
       "        text-align: right;\n",
       "    }\n",
       "</style>\n",
       "<table border=\"1\" class=\"dataframe\">\n",
       "  <thead>\n",
       "    <tr style=\"text-align: right;\">\n",
       "      <th></th>\n",
       "      <th>birthday</th>\n",
       "    </tr>\n",
       "  </thead>\n",
       "  <tbody>\n",
       "    <tr>\n",
       "      <th>0</th>\n",
       "      <td>2022-01-01</td>\n",
       "    </tr>\n",
       "    <tr>\n",
       "      <th>1</th>\n",
       "      <td>2022-01-02</td>\n",
       "    </tr>\n",
       "    <tr>\n",
       "      <th>2</th>\n",
       "      <td>2022-01-03</td>\n",
       "    </tr>\n",
       "    <tr>\n",
       "      <th>3</th>\n",
       "      <td>2022-01-04</td>\n",
       "    </tr>\n",
       "    <tr>\n",
       "      <th>4</th>\n",
       "      <td>2022-01-05</td>\n",
       "    </tr>\n",
       "    <tr>\n",
       "      <th>5</th>\n",
       "      <td>2022-01-06</td>\n",
       "    </tr>\n",
       "    <tr>\n",
       "      <th>6</th>\n",
       "      <td>2022-01-07</td>\n",
       "    </tr>\n",
       "  </tbody>\n",
       "</table>\n",
       "</div>"
      ],
      "text/plain": [
       "     birthday\n",
       "0  2022-01-01\n",
       "1  2022-01-02\n",
       "2  2022-01-03\n",
       "3  2022-01-04\n",
       "4  2022-01-05\n",
       "5  2022-01-06\n",
       "6  2022-01-07"
      ]
     },
     "execution_count": 6,
     "metadata": {},
     "output_type": "execute_result"
    }
   ],
   "source": [
    "staff_tab['birthday']"
   ]
  },
  {
   "cell_type": "markdown",
   "id": "a02ffb4b-8c8d-4e99-9655-98c51f9ee601",
   "metadata": {},
   "source": [
    "查詢*ID*欄位和*birthday*欄位資料:"
   ]
  },
  {
   "cell_type": "code",
   "execution_count": 7,
   "id": "c37fb801-9d94-4b89-ac26-14c23e69ef29",
   "metadata": {},
   "outputs": [
    {
     "data": {
      "text/html": [
       "<div>\n",
       "<style scoped>\n",
       "    .dataframe tbody tr th:only-of-type {\n",
       "        vertical-align: middle;\n",
       "    }\n",
       "\n",
       "    .dataframe tbody tr th {\n",
       "        vertical-align: top;\n",
       "    }\n",
       "\n",
       "    .dataframe thead th {\n",
       "        text-align: right;\n",
       "    }\n",
       "</style>\n",
       "<table border=\"1\" class=\"dataframe\">\n",
       "  <thead>\n",
       "    <tr style=\"text-align: right;\">\n",
       "      <th></th>\n",
       "      <th>ID</th>\n",
       "      <th>birthday</th>\n",
       "    </tr>\n",
       "  </thead>\n",
       "  <tbody>\n",
       "    <tr>\n",
       "      <th>0</th>\n",
       "      <td>1</td>\n",
       "      <td>2022-01-01</td>\n",
       "    </tr>\n",
       "    <tr>\n",
       "      <th>1</th>\n",
       "      <td>2</td>\n",
       "      <td>2022-01-02</td>\n",
       "    </tr>\n",
       "    <tr>\n",
       "      <th>2</th>\n",
       "      <td>3</td>\n",
       "      <td>2022-01-03</td>\n",
       "    </tr>\n",
       "    <tr>\n",
       "      <th>3</th>\n",
       "      <td>4</td>\n",
       "      <td>2022-01-04</td>\n",
       "    </tr>\n",
       "    <tr>\n",
       "      <th>4</th>\n",
       "      <td>5</td>\n",
       "      <td>2022-01-05</td>\n",
       "    </tr>\n",
       "    <tr>\n",
       "      <th>5</th>\n",
       "      <td>6</td>\n",
       "      <td>2022-01-06</td>\n",
       "    </tr>\n",
       "    <tr>\n",
       "      <th>6</th>\n",
       "      <td>7</td>\n",
       "      <td>2022-01-07</td>\n",
       "    </tr>\n",
       "  </tbody>\n",
       "</table>\n",
       "</div>"
      ],
      "text/plain": [
       "   ID    birthday\n",
       "0   1  2022-01-01\n",
       "1   2  2022-01-02\n",
       "2   3  2022-01-03\n",
       "3   4  2022-01-04\n",
       "4   5  2022-01-05\n",
       "5   6  2022-01-06\n",
       "6   7  2022-01-07"
      ]
     },
     "execution_count": 7,
     "metadata": {},
     "output_type": "execute_result"
    }
   ],
   "source": [
    "staff_tab[['ID','birthday']]"
   ]
  },
  {
   "cell_type": "markdown",
   "id": "a0f33ffc-6e59-4569-9a0e-00a793d5a7fb",
   "metadata": {},
   "source": [
    "***\n",
    "\n",
    "## 有條件的查詢\n",
    "\n",
    "有時候我們會希望查詢的時候使用到條件這時候就可以用*columns_condition*來產生查詢條件，比如說你想查詢生日在2022-01-03之後的資料:"
   ]
  },
  {
   "cell_type": "code",
   "execution_count": 8,
   "id": "6ffeb97d-ea72-4949-8582-ad190372687e",
   "metadata": {},
   "outputs": [
    {
     "data": {
      "text/html": [
       "<div>\n",
       "<style scoped>\n",
       "    .dataframe tbody tr th:only-of-type {\n",
       "        vertical-align: middle;\n",
       "    }\n",
       "\n",
       "    .dataframe tbody tr th {\n",
       "        vertical-align: top;\n",
       "    }\n",
       "\n",
       "    .dataframe thead th {\n",
       "        text-align: right;\n",
       "    }\n",
       "</style>\n",
       "<table border=\"1\" class=\"dataframe\">\n",
       "  <thead>\n",
       "    <tr style=\"text-align: right;\">\n",
       "      <th></th>\n",
       "      <th>ID</th>\n",
       "      <th>birthday</th>\n",
       "      <th>age</th>\n",
       "      <th>tall</th>\n",
       "    </tr>\n",
       "  </thead>\n",
       "  <tbody>\n",
       "    <tr>\n",
       "      <th>0</th>\n",
       "      <td>4</td>\n",
       "      <td>2022-01-04</td>\n",
       "      <td>21.0</td>\n",
       "      <td>118.01</td>\n",
       "    </tr>\n",
       "    <tr>\n",
       "      <th>1</th>\n",
       "      <td>5</td>\n",
       "      <td>2022-01-05</td>\n",
       "      <td>22.0</td>\n",
       "      <td>178.00</td>\n",
       "    </tr>\n",
       "    <tr>\n",
       "      <th>2</th>\n",
       "      <td>6</td>\n",
       "      <td>2022-01-06</td>\n",
       "      <td>23.0</td>\n",
       "      <td>160.00</td>\n",
       "    </tr>\n",
       "    <tr>\n",
       "      <th>3</th>\n",
       "      <td>7</td>\n",
       "      <td>2022-01-07</td>\n",
       "      <td>NaN</td>\n",
       "      <td>NaN</td>\n",
       "    </tr>\n",
       "  </tbody>\n",
       "</table>\n",
       "</div>"
      ],
      "text/plain": [
       "   ID    birthday   age    tall\n",
       "0   4  2022-01-04  21.0  118.01\n",
       "1   5  2022-01-05  22.0  178.00\n",
       "2   6  2022-01-06  23.0  160.00\n",
       "3   7  2022-01-07   NaN     NaN"
      ]
     },
     "execution_count": 8,
     "metadata": {},
     "output_type": "execute_result"
    }
   ],
   "source": [
    "from mysql_tool import columns_condition as col\n",
    "\n",
    "condition1=col['birthday']>'2022-01-03'\n",
    "staff_tab[condition1]"
   ]
  },
  {
   "cell_type": "markdown",
   "id": "b22c5b8d-c9a2-4b39-8267-137850ccb17d",
   "metadata": {},
   "source": [
    "你也可以使用操作屬性的方式來查詢，比如你想查詢歲數小於22歲的。"
   ]
  },
  {
   "cell_type": "code",
   "execution_count": 9,
   "id": "40b9f834-347e-430a-b917-28b975a92610",
   "metadata": {},
   "outputs": [
    {
     "data": {
      "text/html": [
       "<div>\n",
       "<style scoped>\n",
       "    .dataframe tbody tr th:only-of-type {\n",
       "        vertical-align: middle;\n",
       "    }\n",
       "\n",
       "    .dataframe tbody tr th {\n",
       "        vertical-align: top;\n",
       "    }\n",
       "\n",
       "    .dataframe thead th {\n",
       "        text-align: right;\n",
       "    }\n",
       "</style>\n",
       "<table border=\"1\" class=\"dataframe\">\n",
       "  <thead>\n",
       "    <tr style=\"text-align: right;\">\n",
       "      <th></th>\n",
       "      <th>ID</th>\n",
       "      <th>birthday</th>\n",
       "      <th>age</th>\n",
       "      <th>tall</th>\n",
       "    </tr>\n",
       "  </thead>\n",
       "  <tbody>\n",
       "    <tr>\n",
       "      <th>0</th>\n",
       "      <td>1</td>\n",
       "      <td>2022-01-01</td>\n",
       "      <td>18</td>\n",
       "      <td>160.16</td>\n",
       "    </tr>\n",
       "    <tr>\n",
       "      <th>1</th>\n",
       "      <td>2</td>\n",
       "      <td>2022-01-02</td>\n",
       "      <td>19</td>\n",
       "      <td>NaN</td>\n",
       "    </tr>\n",
       "    <tr>\n",
       "      <th>2</th>\n",
       "      <td>4</td>\n",
       "      <td>2022-01-04</td>\n",
       "      <td>21</td>\n",
       "      <td>118.01</td>\n",
       "    </tr>\n",
       "  </tbody>\n",
       "</table>\n",
       "</div>"
      ],
      "text/plain": [
       "   ID    birthday  age    tall\n",
       "0   1  2022-01-01   18  160.16\n",
       "1   2  2022-01-02   19     NaN\n",
       "2   4  2022-01-04   21  118.01"
      ]
     },
     "execution_count": 9,
     "metadata": {},
     "output_type": "execute_result"
    }
   ],
   "source": [
    "condition2=col.age<22\n",
    "staff_tab[condition2]"
   ]
  },
  {
   "cell_type": "markdown",
   "id": "1ac7c14f-1a0d-4426-9be3-e42123da06a2",
   "metadata": {},
   "source": [
    "你也可以將多個條件同時使用:"
   ]
  },
  {
   "cell_type": "code",
   "execution_count": 10,
   "id": "e18cab0d-d31b-4a58-b790-c10b80e3b87d",
   "metadata": {},
   "outputs": [
    {
     "data": {
      "text/html": [
       "<div>\n",
       "<style scoped>\n",
       "    .dataframe tbody tr th:only-of-type {\n",
       "        vertical-align: middle;\n",
       "    }\n",
       "\n",
       "    .dataframe tbody tr th {\n",
       "        vertical-align: top;\n",
       "    }\n",
       "\n",
       "    .dataframe thead th {\n",
       "        text-align: right;\n",
       "    }\n",
       "</style>\n",
       "<table border=\"1\" class=\"dataframe\">\n",
       "  <thead>\n",
       "    <tr style=\"text-align: right;\">\n",
       "      <th></th>\n",
       "      <th>ID</th>\n",
       "      <th>birthday</th>\n",
       "      <th>age</th>\n",
       "      <th>tall</th>\n",
       "    </tr>\n",
       "  </thead>\n",
       "  <tbody>\n",
       "    <tr>\n",
       "      <th>0</th>\n",
       "      <td>4</td>\n",
       "      <td>2022-01-04</td>\n",
       "      <td>21</td>\n",
       "      <td>118.01</td>\n",
       "    </tr>\n",
       "  </tbody>\n",
       "</table>\n",
       "</div>"
      ],
      "text/plain": [
       "   ID    birthday  age    tall\n",
       "0   4  2022-01-04   21  118.01"
      ]
     },
     "execution_count": 10,
     "metadata": {},
     "output_type": "execute_result"
    }
   ],
   "source": [
    "staff_tab[condition1&condition2]"
   ]
  },
  {
   "cell_type": "code",
   "execution_count": 11,
   "id": "63523330-4d2f-42f0-a675-bc57af7a5dc1",
   "metadata": {},
   "outputs": [
    {
     "data": {
      "text/html": [
       "<div>\n",
       "<style scoped>\n",
       "    .dataframe tbody tr th:only-of-type {\n",
       "        vertical-align: middle;\n",
       "    }\n",
       "\n",
       "    .dataframe tbody tr th {\n",
       "        vertical-align: top;\n",
       "    }\n",
       "\n",
       "    .dataframe thead th {\n",
       "        text-align: right;\n",
       "    }\n",
       "</style>\n",
       "<table border=\"1\" class=\"dataframe\">\n",
       "  <thead>\n",
       "    <tr style=\"text-align: right;\">\n",
       "      <th></th>\n",
       "      <th>ID</th>\n",
       "      <th>birthday</th>\n",
       "      <th>age</th>\n",
       "      <th>tall</th>\n",
       "    </tr>\n",
       "  </thead>\n",
       "  <tbody>\n",
       "    <tr>\n",
       "      <th>0</th>\n",
       "      <td>1</td>\n",
       "      <td>2022-01-01</td>\n",
       "      <td>18.0</td>\n",
       "      <td>160.16</td>\n",
       "    </tr>\n",
       "    <tr>\n",
       "      <th>1</th>\n",
       "      <td>2</td>\n",
       "      <td>2022-01-02</td>\n",
       "      <td>19.0</td>\n",
       "      <td>NaN</td>\n",
       "    </tr>\n",
       "    <tr>\n",
       "      <th>2</th>\n",
       "      <td>4</td>\n",
       "      <td>2022-01-04</td>\n",
       "      <td>21.0</td>\n",
       "      <td>118.01</td>\n",
       "    </tr>\n",
       "    <tr>\n",
       "      <th>3</th>\n",
       "      <td>5</td>\n",
       "      <td>2022-01-05</td>\n",
       "      <td>22.0</td>\n",
       "      <td>178.00</td>\n",
       "    </tr>\n",
       "    <tr>\n",
       "      <th>4</th>\n",
       "      <td>6</td>\n",
       "      <td>2022-01-06</td>\n",
       "      <td>23.0</td>\n",
       "      <td>160.00</td>\n",
       "    </tr>\n",
       "    <tr>\n",
       "      <th>5</th>\n",
       "      <td>7</td>\n",
       "      <td>2022-01-07</td>\n",
       "      <td>NaN</td>\n",
       "      <td>NaN</td>\n",
       "    </tr>\n",
       "  </tbody>\n",
       "</table>\n",
       "</div>"
      ],
      "text/plain": [
       "   ID    birthday   age    tall\n",
       "0   1  2022-01-01  18.0  160.16\n",
       "1   2  2022-01-02  19.0     NaN\n",
       "2   4  2022-01-04  21.0  118.01\n",
       "3   5  2022-01-05  22.0  178.00\n",
       "4   6  2022-01-06  23.0  160.00\n",
       "5   7  2022-01-07   NaN     NaN"
      ]
     },
     "execution_count": 11,
     "metadata": {},
     "output_type": "execute_result"
    }
   ],
   "source": [
    "staff_tab[condition1|condition2]"
   ]
  },
  {
   "cell_type": "markdown",
   "id": "d1b7f918-44f8-49f4-a4e4-29f9dcbdf269",
   "metadata": {},
   "source": [
    "可以使用類似DataFrame中的*isin*，如果是取反則是使用*noin*:"
   ]
  },
  {
   "cell_type": "code",
   "execution_count": 12,
   "id": "0beb9ca7-6087-417c-9ebb-0454a18f510b",
   "metadata": {},
   "outputs": [
    {
     "data": {
      "text/html": [
       "<div>\n",
       "<style scoped>\n",
       "    .dataframe tbody tr th:only-of-type {\n",
       "        vertical-align: middle;\n",
       "    }\n",
       "\n",
       "    .dataframe tbody tr th {\n",
       "        vertical-align: top;\n",
       "    }\n",
       "\n",
       "    .dataframe thead th {\n",
       "        text-align: right;\n",
       "    }\n",
       "</style>\n",
       "<table border=\"1\" class=\"dataframe\">\n",
       "  <thead>\n",
       "    <tr style=\"text-align: right;\">\n",
       "      <th></th>\n",
       "      <th>ID</th>\n",
       "      <th>birthday</th>\n",
       "      <th>age</th>\n",
       "      <th>tall</th>\n",
       "    </tr>\n",
       "  </thead>\n",
       "  <tbody>\n",
       "    <tr>\n",
       "      <th>0</th>\n",
       "      <td>1</td>\n",
       "      <td>2022-01-01</td>\n",
       "      <td>18</td>\n",
       "      <td>160.16</td>\n",
       "    </tr>\n",
       "    <tr>\n",
       "      <th>1</th>\n",
       "      <td>2</td>\n",
       "      <td>2022-01-02</td>\n",
       "      <td>19</td>\n",
       "      <td>NaN</td>\n",
       "    </tr>\n",
       "    <tr>\n",
       "      <th>2</th>\n",
       "      <td>4</td>\n",
       "      <td>2022-01-04</td>\n",
       "      <td>21</td>\n",
       "      <td>118.01</td>\n",
       "    </tr>\n",
       "  </tbody>\n",
       "</table>\n",
       "</div>"
      ],
      "text/plain": [
       "   ID    birthday  age    tall\n",
       "0   1  2022-01-01   18  160.16\n",
       "1   2  2022-01-02   19     NaN\n",
       "2   4  2022-01-04   21  118.01"
      ]
     },
     "execution_count": 12,
     "metadata": {},
     "output_type": "execute_result"
    }
   ],
   "source": [
    "staff_tab[col.age.isin([18,19,21])]"
   ]
  },
  {
   "cell_type": "code",
   "execution_count": 13,
   "id": "a5d5e7d7-b731-42f9-8444-7e39decd7e40",
   "metadata": {},
   "outputs": [
    {
     "data": {
      "text/html": [
       "<div>\n",
       "<style scoped>\n",
       "    .dataframe tbody tr th:only-of-type {\n",
       "        vertical-align: middle;\n",
       "    }\n",
       "\n",
       "    .dataframe tbody tr th {\n",
       "        vertical-align: top;\n",
       "    }\n",
       "\n",
       "    .dataframe thead th {\n",
       "        text-align: right;\n",
       "    }\n",
       "</style>\n",
       "<table border=\"1\" class=\"dataframe\">\n",
       "  <thead>\n",
       "    <tr style=\"text-align: right;\">\n",
       "      <th></th>\n",
       "      <th>ID</th>\n",
       "      <th>birthday</th>\n",
       "      <th>age</th>\n",
       "      <th>tall</th>\n",
       "    </tr>\n",
       "  </thead>\n",
       "  <tbody>\n",
       "    <tr>\n",
       "      <th>0</th>\n",
       "      <td>5</td>\n",
       "      <td>2022-01-05</td>\n",
       "      <td>22</td>\n",
       "      <td>178.0</td>\n",
       "    </tr>\n",
       "    <tr>\n",
       "      <th>1</th>\n",
       "      <td>6</td>\n",
       "      <td>2022-01-06</td>\n",
       "      <td>23</td>\n",
       "      <td>160.0</td>\n",
       "    </tr>\n",
       "  </tbody>\n",
       "</table>\n",
       "</div>"
      ],
      "text/plain": [
       "   ID    birthday  age   tall\n",
       "0   5  2022-01-05   22  178.0\n",
       "1   6  2022-01-06   23  160.0"
      ]
     },
     "execution_count": 13,
     "metadata": {},
     "output_type": "execute_result"
    }
   ],
   "source": [
    "staff_tab[col.age.noin([18,19,21])]"
   ]
  },
  {
   "cell_type": "markdown",
   "id": "19045f24-3810-400e-90f0-129370e3f174",
   "metadata": {},
   "source": [
    "搜索為*NULL*的值可以用*is_null*，取反則使用*no_null*:"
   ]
  },
  {
   "cell_type": "code",
   "execution_count": 14,
   "id": "8f28154f-0a5f-46ca-99ce-44da67b43edd",
   "metadata": {},
   "outputs": [
    {
     "name": "stdout",
     "output_type": "stream",
     "text": [
      "age IS NULL\n"
     ]
    },
    {
     "data": {
      "text/html": [
       "<div>\n",
       "<style scoped>\n",
       "    .dataframe tbody tr th:only-of-type {\n",
       "        vertical-align: middle;\n",
       "    }\n",
       "\n",
       "    .dataframe tbody tr th {\n",
       "        vertical-align: top;\n",
       "    }\n",
       "\n",
       "    .dataframe thead th {\n",
       "        text-align: right;\n",
       "    }\n",
       "</style>\n",
       "<table border=\"1\" class=\"dataframe\">\n",
       "  <thead>\n",
       "    <tr style=\"text-align: right;\">\n",
       "      <th></th>\n",
       "      <th>ID</th>\n",
       "      <th>birthday</th>\n",
       "      <th>age</th>\n",
       "      <th>tall</th>\n",
       "    </tr>\n",
       "  </thead>\n",
       "  <tbody>\n",
       "    <tr>\n",
       "      <th>0</th>\n",
       "      <td>3</td>\n",
       "      <td>2022-01-03</td>\n",
       "      <td>None</td>\n",
       "      <td>180.18</td>\n",
       "    </tr>\n",
       "    <tr>\n",
       "      <th>1</th>\n",
       "      <td>7</td>\n",
       "      <td>2022-01-07</td>\n",
       "      <td>None</td>\n",
       "      <td>NaN</td>\n",
       "    </tr>\n",
       "  </tbody>\n",
       "</table>\n",
       "</div>"
      ],
      "text/plain": [
       "   ID    birthday   age    tall\n",
       "0   3  2022-01-03  None  180.18\n",
       "1   7  2022-01-07  None     NaN"
      ]
     },
     "execution_count": 14,
     "metadata": {},
     "output_type": "execute_result"
    }
   ],
   "source": [
    "staff_tab[col.age.is_null()]"
   ]
  },
  {
   "cell_type": "code",
   "execution_count": 15,
   "id": "edf9217c-9afa-4136-bc31-c11cf4d1b62d",
   "metadata": {},
   "outputs": [
    {
     "data": {
      "text/html": [
       "<div>\n",
       "<style scoped>\n",
       "    .dataframe tbody tr th:only-of-type {\n",
       "        vertical-align: middle;\n",
       "    }\n",
       "\n",
       "    .dataframe tbody tr th {\n",
       "        vertical-align: top;\n",
       "    }\n",
       "\n",
       "    .dataframe thead th {\n",
       "        text-align: right;\n",
       "    }\n",
       "</style>\n",
       "<table border=\"1\" class=\"dataframe\">\n",
       "  <thead>\n",
       "    <tr style=\"text-align: right;\">\n",
       "      <th></th>\n",
       "      <th>ID</th>\n",
       "      <th>birthday</th>\n",
       "      <th>age</th>\n",
       "      <th>tall</th>\n",
       "    </tr>\n",
       "  </thead>\n",
       "  <tbody>\n",
       "    <tr>\n",
       "      <th>0</th>\n",
       "      <td>1</td>\n",
       "      <td>2022-01-01</td>\n",
       "      <td>18</td>\n",
       "      <td>160.16</td>\n",
       "    </tr>\n",
       "    <tr>\n",
       "      <th>1</th>\n",
       "      <td>2</td>\n",
       "      <td>2022-01-02</td>\n",
       "      <td>19</td>\n",
       "      <td>NaN</td>\n",
       "    </tr>\n",
       "    <tr>\n",
       "      <th>2</th>\n",
       "      <td>4</td>\n",
       "      <td>2022-01-04</td>\n",
       "      <td>21</td>\n",
       "      <td>118.01</td>\n",
       "    </tr>\n",
       "    <tr>\n",
       "      <th>3</th>\n",
       "      <td>5</td>\n",
       "      <td>2022-01-05</td>\n",
       "      <td>22</td>\n",
       "      <td>178.00</td>\n",
       "    </tr>\n",
       "    <tr>\n",
       "      <th>4</th>\n",
       "      <td>6</td>\n",
       "      <td>2022-01-06</td>\n",
       "      <td>23</td>\n",
       "      <td>160.00</td>\n",
       "    </tr>\n",
       "  </tbody>\n",
       "</table>\n",
       "</div>"
      ],
      "text/plain": [
       "   ID    birthday  age    tall\n",
       "0   1  2022-01-01   18  160.16\n",
       "1   2  2022-01-02   19     NaN\n",
       "2   4  2022-01-04   21  118.01\n",
       "3   5  2022-01-05   22  178.00\n",
       "4   6  2022-01-06   23  160.00"
      ]
     },
     "execution_count": 15,
     "metadata": {},
     "output_type": "execute_result"
    }
   ],
   "source": [
    "staff_tab[col.age.no_null()]"
   ]
  },
  {
   "cell_type": "markdown",
   "id": "8eeb2338-5980-4647-9ffe-56fcd9925132",
   "metadata": {},
   "source": [
    "如果真的需要使用MySQL指令查詢資料，可以用下面的方式。"
   ]
  },
  {
   "cell_type": "code",
   "execution_count": 26,
   "id": "b9e29a18-bc56-4f1a-bc50-6e5bee062107",
   "metadata": {},
   "outputs": [
    {
     "data": {
      "text/html": [
       "<div>\n",
       "<style scoped>\n",
       "    .dataframe tbody tr th:only-of-type {\n",
       "        vertical-align: middle;\n",
       "    }\n",
       "\n",
       "    .dataframe tbody tr th {\n",
       "        vertical-align: top;\n",
       "    }\n",
       "\n",
       "    .dataframe thead th {\n",
       "        text-align: right;\n",
       "    }\n",
       "</style>\n",
       "<table border=\"1\" class=\"dataframe\">\n",
       "  <thead>\n",
       "    <tr style=\"text-align: right;\">\n",
       "      <th></th>\n",
       "      <th>ID</th>\n",
       "      <th>birthday</th>\n",
       "      <th>age</th>\n",
       "      <th>tall</th>\n",
       "    </tr>\n",
       "  </thead>\n",
       "  <tbody>\n",
       "    <tr>\n",
       "      <th>0</th>\n",
       "      <td>1</td>\n",
       "      <td>2022-01-01</td>\n",
       "      <td>18.0</td>\n",
       "      <td>160.16</td>\n",
       "    </tr>\n",
       "    <tr>\n",
       "      <th>1</th>\n",
       "      <td>2</td>\n",
       "      <td>2022-01-02</td>\n",
       "      <td>19.0</td>\n",
       "      <td>NaN</td>\n",
       "    </tr>\n",
       "    <tr>\n",
       "      <th>2</th>\n",
       "      <td>3</td>\n",
       "      <td>2022-01-03</td>\n",
       "      <td>NaN</td>\n",
       "      <td>180.18</td>\n",
       "    </tr>\n",
       "    <tr>\n",
       "      <th>3</th>\n",
       "      <td>4</td>\n",
       "      <td>2022-01-04</td>\n",
       "      <td>21.0</td>\n",
       "      <td>118.01</td>\n",
       "    </tr>\n",
       "    <tr>\n",
       "      <th>4</th>\n",
       "      <td>5</td>\n",
       "      <td>2022-01-05</td>\n",
       "      <td>22.0</td>\n",
       "      <td>178.00</td>\n",
       "    </tr>\n",
       "    <tr>\n",
       "      <th>5</th>\n",
       "      <td>6</td>\n",
       "      <td>2022-01-06</td>\n",
       "      <td>23.0</td>\n",
       "      <td>160.00</td>\n",
       "    </tr>\n",
       "    <tr>\n",
       "      <th>6</th>\n",
       "      <td>7</td>\n",
       "      <td>2022-01-07</td>\n",
       "      <td>NaN</td>\n",
       "      <td>NaN</td>\n",
       "    </tr>\n",
       "  </tbody>\n",
       "</table>\n",
       "</div>"
      ],
      "text/plain": [
       "   ID    birthday   age    tall\n",
       "0   1  2022-01-01  18.0  160.16\n",
       "1   2  2022-01-02  19.0     NaN\n",
       "2   3  2022-01-03   NaN  180.18\n",
       "3   4  2022-01-04  21.0  118.01\n",
       "4   5  2022-01-05  22.0  178.00\n",
       "5   6  2022-01-06  23.0  160.00\n",
       "6   7  2022-01-07   NaN     NaN"
      ]
     },
     "execution_count": 26,
     "metadata": {},
     "output_type": "execute_result"
    }
   ],
   "source": [
    "staff_tab.read_df('SELECT * FROM staff_tab')"
   ]
  },
  {
   "cell_type": "code",
   "execution_count": 17,
   "id": "5aaa7662-9e05-4468-9377-b78f9c4c2d46",
   "metadata": {},
   "outputs": [
    {
     "data": {
      "text/plain": [
       "((1, datetime.date(2022, 1, 1), 18, Decimal('160.160')),\n",
       " (2, datetime.date(2022, 1, 2), 19, None),\n",
       " (3, datetime.date(2022, 1, 3), None, Decimal('180.180')),\n",
       " (4, datetime.date(2022, 1, 4), 21, Decimal('118.010')),\n",
       " (5, datetime.date(2022, 1, 5), 22, Decimal('178.000')),\n",
       " (6, datetime.date(2022, 1, 6), 23, Decimal('160.000')),\n",
       " (7, datetime.date(2022, 1, 7), None, None))"
      ]
     },
     "execution_count": 17,
     "metadata": {},
     "output_type": "execute_result"
    }
   ],
   "source": [
    "staff_tab.fetch('SELECT * FROM staff_tab')"
   ]
  },
  {
   "cell_type": "code",
   "execution_count": 18,
   "id": "59ee1cdc-6928-422f-ba86-46e3116f21dd",
   "metadata": {},
   "outputs": [
    {
     "data": {
      "text/plain": [
       "((1, datetime.date(2022, 1, 1), 18, Decimal('160.160')),\n",
       " (2, datetime.date(2022, 1, 2), 19, None),\n",
       " (3, datetime.date(2022, 1, 3), None, Decimal('180.180')),\n",
       " (4, datetime.date(2022, 1, 4), 21, Decimal('118.010')),\n",
       " (5, datetime.date(2022, 1, 5), 22, Decimal('178.000')))"
      ]
     },
     "execution_count": 18,
     "metadata": {},
     "output_type": "execute_result"
    }
   ],
   "source": [
    "staff_tab.fetch('SELECT * FROM staff_tab', n=5)"
   ]
  },
  {
   "cell_type": "markdown",
   "id": "1bbcac28-da83-49e2-9c08-8a7305779f92",
   "metadata": {},
   "source": [
    "***\n",
    "\n",
    "## 插入資料\n",
    "\n",
    "與查訊資料相對的如何插入資料到資料表中。如果要插入資料可以使用*insert_df*將DataFrame插入到資料表中:"
   ]
  },
  {
   "cell_type": "code",
   "execution_count": 30,
   "id": "27f32ab8-f70b-4fd2-8798-ada2221357c3",
   "metadata": {},
   "outputs": [],
   "source": [
    "import pandas as pd\n",
    "df=pd.DataFrame({'birthday':['2022-01-07'],'age':[19],'tall':[167.67]})\n",
    "staff_tab.insert_df(df)"
   ]
  },
  {
   "cell_type": "markdown",
   "id": "0164bab6-52ca-4fd1-8da6-f996417b0e86",
   "metadata": {},
   "source": [
    "查看最後一筆資料會發現已經將*df*加入到資料庫中。"
   ]
  },
  {
   "cell_type": "code",
   "execution_count": 33,
   "id": "fa207e89-a55e-44d6-83fa-95ae1c0afdcc",
   "metadata": {},
   "outputs": [
    {
     "data": {
      "text/html": [
       "<div>\n",
       "<style scoped>\n",
       "    .dataframe tbody tr th:only-of-type {\n",
       "        vertical-align: middle;\n",
       "    }\n",
       "\n",
       "    .dataframe tbody tr th {\n",
       "        vertical-align: top;\n",
       "    }\n",
       "\n",
       "    .dataframe thead th {\n",
       "        text-align: right;\n",
       "    }\n",
       "</style>\n",
       "<table border=\"1\" class=\"dataframe\">\n",
       "  <thead>\n",
       "    <tr style=\"text-align: right;\">\n",
       "      <th></th>\n",
       "      <th>ID</th>\n",
       "      <th>birthday</th>\n",
       "      <th>age</th>\n",
       "      <th>tall</th>\n",
       "    </tr>\n",
       "  </thead>\n",
       "  <tbody>\n",
       "    <tr>\n",
       "      <th>0</th>\n",
       "      <td>8</td>\n",
       "      <td>2022-01-07</td>\n",
       "      <td>19</td>\n",
       "      <td>167.67</td>\n",
       "    </tr>\n",
       "  </tbody>\n",
       "</table>\n",
       "</div>"
      ],
      "text/plain": [
       "   ID    birthday  age    tall\n",
       "0   8  2022-01-07   19  167.67"
      ]
     },
     "execution_count": 33,
     "metadata": {},
     "output_type": "execute_result"
    }
   ],
   "source": [
    "staff_tab[-1]"
   ]
  },
  {
   "cell_type": "markdown",
   "id": "68ca2af5-c1b8-4f46-acb4-4a9bdf7b6270",
   "metadata": {},
   "source": [
    "如果需要使用MySQL指令的方式插入資料則可以使用*commit*方法插入資料:"
   ]
  },
  {
   "cell_type": "code",
   "execution_count": 35,
   "id": "f484fc7e-1016-4af2-81c6-ed9a87bef4d7",
   "metadata": {},
   "outputs": [],
   "source": [
    "cmd_list=[\n",
    "    \"INSERT INTO staff_tab(birthday, age, tall) VALUES('2022-01-08', 20, 194)\"\n",
    "]\n",
    "staff_tab.commit(cmd_list=cmd_list)"
   ]
  },
  {
   "cell_type": "markdown",
   "id": "24589558-dcbb-4ede-88ca-adbb48336103",
   "metadata": {},
   "source": [
    "查看最後一筆資料會發現已經將資料加入到資料庫中。"
   ]
  },
  {
   "cell_type": "code",
   "execution_count": 36,
   "id": "36543b4b-2606-4053-ac40-2b4829f97024",
   "metadata": {},
   "outputs": [
    {
     "data": {
      "text/html": [
       "<div>\n",
       "<style scoped>\n",
       "    .dataframe tbody tr th:only-of-type {\n",
       "        vertical-align: middle;\n",
       "    }\n",
       "\n",
       "    .dataframe tbody tr th {\n",
       "        vertical-align: top;\n",
       "    }\n",
       "\n",
       "    .dataframe thead th {\n",
       "        text-align: right;\n",
       "    }\n",
       "</style>\n",
       "<table border=\"1\" class=\"dataframe\">\n",
       "  <thead>\n",
       "    <tr style=\"text-align: right;\">\n",
       "      <th></th>\n",
       "      <th>ID</th>\n",
       "      <th>birthday</th>\n",
       "      <th>age</th>\n",
       "      <th>tall</th>\n",
       "    </tr>\n",
       "  </thead>\n",
       "  <tbody>\n",
       "    <tr>\n",
       "      <th>0</th>\n",
       "      <td>9</td>\n",
       "      <td>2022-01-08</td>\n",
       "      <td>20</td>\n",
       "      <td>194.0</td>\n",
       "    </tr>\n",
       "  </tbody>\n",
       "</table>\n",
       "</div>"
      ],
      "text/plain": [
       "   ID    birthday  age   tall\n",
       "0   9  2022-01-08   20  194.0"
      ]
     },
     "execution_count": 36,
     "metadata": {},
     "output_type": "execute_result"
    }
   ],
   "source": [
    "staff_tab[-1]"
   ]
  },
  {
   "cell_type": "markdown",
   "id": "6f493974-a347-48f0-9bea-0f781844f8ca",
   "metadata": {},
   "source": [
    "**`補充:`** commit方法\n",
    "\n",
    "使用*commit方法*不僅僅可以用來插入資料，還可以對資料表做其他任何MySQL的操作。與*fetch*方法不同的地方在於一個會回傳資料庫的回傳結果，一個不會。"
   ]
  },
  {
   "cell_type": "markdown",
   "id": "444950a6-1662-49e9-a30c-955da24b81c2",
   "metadata": {},
   "source": [
    "***\n",
    "\n",
    "## 使用mysql_interface建立連接工具\n",
    "\n",
    "前面一開始我們使用了*staff_tab_portal*這個連接工具連接到了*staff_tab*資料表。那麼如股果我們要連接其他資料表的時候能不能製作自己的連接工具(portal)呢？我們可以使用mysql_tool.mysql_interface來建立。\n",
    "\n",
    "順帶一提，mysql_tool.mysql_portal中的所有連接工具也是使用mysql_interface來建立的。"
   ]
  },
  {
   "cell_type": "code",
   "execution_count": 43,
   "id": "8e0b97aa-64c0-4d9c-8a2f-792302327b73",
   "metadata": {},
   "outputs": [],
   "source": [
    "from mysql_tool import mysql_interface\n",
    "import pymysql\n",
    "\n",
    "class twse_tab_portal(mysql_interface):\n",
    "    def __init__(self, user, password):\n",
    "        bd_name='stock_db'\n",
    "        tab_name='twse_pv'\n",
    "        conn=pymysql.connect(\n",
    "            host='192.168.0.103',\n",
    "            port=3306,\n",
    "            user=user,\n",
    "            password=password,\n",
    "            db='stock_db'\n",
    "        )\n",
    "        \n",
    "        super().__init__(conn=conn, tab=tab_name)"
   ]
  },
  {
   "cell_type": "markdown",
   "id": "4dceba52-8b7b-4f02-bc65-7e4f165b3982",
   "metadata": {},
   "source": [
    "上面是一個使用*mysql_interface*建立連接工具的範例，在範例中建立了一個與資料庫*stock_db*中的資料表*twse_pv*的連接工具。\n",
    "\n",
    "如果想要使用連接工具建立連接，可以輸入帳密，然後該連接工具會回傳一個資料表的操作界面。然後就可以像上面介紹過的一樣操作資料表了。"
   ]
  },
  {
   "cell_type": "code",
   "execution_count": 45,
   "id": "0ade2d67-710a-4fce-b8e6-2063e579386d",
   "metadata": {},
   "outputs": [
    {
     "data": {
      "text/html": [
       "<div>\n",
       "<style scoped>\n",
       "    .dataframe tbody tr th:only-of-type {\n",
       "        vertical-align: middle;\n",
       "    }\n",
       "\n",
       "    .dataframe tbody tr th {\n",
       "        vertical-align: top;\n",
       "    }\n",
       "\n",
       "    .dataframe thead th {\n",
       "        text-align: right;\n",
       "    }\n",
       "</style>\n",
       "<table border=\"1\" class=\"dataframe\">\n",
       "  <thead>\n",
       "    <tr style=\"text-align: right;\">\n",
       "      <th></th>\n",
       "      <th>Field</th>\n",
       "      <th>Type</th>\n",
       "      <th>Null</th>\n",
       "      <th>Key</th>\n",
       "      <th>Default</th>\n",
       "      <th>Extra</th>\n",
       "    </tr>\n",
       "  </thead>\n",
       "  <tbody>\n",
       "    <tr>\n",
       "      <th>0</th>\n",
       "      <td>ID</td>\n",
       "      <td>int</td>\n",
       "      <td>NO</td>\n",
       "      <td>PRI</td>\n",
       "      <td>None</td>\n",
       "      <td>auto_increment</td>\n",
       "    </tr>\n",
       "    <tr>\n",
       "      <th>1</th>\n",
       "      <td>date</td>\n",
       "      <td>date</td>\n",
       "      <td>YES</td>\n",
       "      <td></td>\n",
       "      <td>None</td>\n",
       "      <td></td>\n",
       "    </tr>\n",
       "    <tr>\n",
       "      <th>2</th>\n",
       "      <td>stock_id</td>\n",
       "      <td>varchar(32)</td>\n",
       "      <td>YES</td>\n",
       "      <td></td>\n",
       "      <td>None</td>\n",
       "      <td></td>\n",
       "    </tr>\n",
       "    <tr>\n",
       "      <th>3</th>\n",
       "      <td>open</td>\n",
       "      <td>decimal(9,3)</td>\n",
       "      <td>YES</td>\n",
       "      <td></td>\n",
       "      <td>None</td>\n",
       "      <td></td>\n",
       "    </tr>\n",
       "    <tr>\n",
       "      <th>4</th>\n",
       "      <td>high</td>\n",
       "      <td>decimal(9,3)</td>\n",
       "      <td>YES</td>\n",
       "      <td></td>\n",
       "      <td>None</td>\n",
       "      <td></td>\n",
       "    </tr>\n",
       "    <tr>\n",
       "      <th>5</th>\n",
       "      <td>low</td>\n",
       "      <td>decimal(9,3)</td>\n",
       "      <td>YES</td>\n",
       "      <td></td>\n",
       "      <td>None</td>\n",
       "      <td></td>\n",
       "    </tr>\n",
       "    <tr>\n",
       "      <th>6</th>\n",
       "      <td>close</td>\n",
       "      <td>decimal(9,3)</td>\n",
       "      <td>YES</td>\n",
       "      <td></td>\n",
       "      <td>None</td>\n",
       "      <td></td>\n",
       "    </tr>\n",
       "    <tr>\n",
       "      <th>7</th>\n",
       "      <td>volume</td>\n",
       "      <td>int</td>\n",
       "      <td>YES</td>\n",
       "      <td></td>\n",
       "      <td>None</td>\n",
       "      <td></td>\n",
       "    </tr>\n",
       "    <tr>\n",
       "      <th>8</th>\n",
       "      <td>value</td>\n",
       "      <td>int</td>\n",
       "      <td>YES</td>\n",
       "      <td></td>\n",
       "      <td>None</td>\n",
       "      <td></td>\n",
       "    </tr>\n",
       "    <tr>\n",
       "      <th>9</th>\n",
       "      <td>record</td>\n",
       "      <td>int</td>\n",
       "      <td>YES</td>\n",
       "      <td></td>\n",
       "      <td>None</td>\n",
       "      <td></td>\n",
       "    </tr>\n",
       "  </tbody>\n",
       "</table>\n",
       "</div>"
      ],
      "text/plain": [
       "      Field          Type Null  Key Default           Extra\n",
       "0        ID           int   NO  PRI    None  auto_increment\n",
       "1      date          date  YES         None                \n",
       "2  stock_id   varchar(32)  YES         None                \n",
       "3      open  decimal(9,3)  YES         None                \n",
       "4      high  decimal(9,3)  YES         None                \n",
       "5       low  decimal(9,3)  YES         None                \n",
       "6     close  decimal(9,3)  YES         None                \n",
       "7    volume           int  YES         None                \n",
       "8     value           int  YES         None                \n",
       "9    record           int  YES         None                "
      ]
     },
     "execution_count": 45,
     "metadata": {},
     "output_type": "execute_result"
    }
   ],
   "source": [
    "twse_tab=twse_tab_portal('testuser', '123')\n",
    "\n",
    "# 查訊資料表欄位資訊\n",
    "twse_tab.columns_info"
   ]
  }
 ],
 "metadata": {
  "kernelspec": {
   "display_name": "Python 3 (ipykernel)",
   "language": "python",
   "name": "python3"
  },
  "language_info": {
   "codemirror_mode": {
    "name": "ipython",
    "version": 3
   },
   "file_extension": ".py",
   "mimetype": "text/x-python",
   "name": "python",
   "nbconvert_exporter": "python",
   "pygments_lexer": "ipython3",
   "version": "3.9.12"
  }
 },
 "nbformat": 4,
 "nbformat_minor": 5
}
