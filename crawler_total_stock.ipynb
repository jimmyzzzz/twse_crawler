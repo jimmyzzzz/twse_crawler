{
 "cells": [
  {
   "cell_type": "code",
   "execution_count": 115,
   "id": "c8bd4d99-73d7-47a1-b9db-5b0133196e86",
   "metadata": {},
   "outputs": [],
   "source": [
    "import crawlers as cs\n",
    "import crawler_decorator as cd"
   ]
  },
  {
   "cell_type": "code",
   "execution_count": 116,
   "id": "82d2c501-1b9d-44e6-8b82-808750dcb0e3",
   "metadata": {},
   "outputs": [],
   "source": [
    "import numpy as np\n",
    "import pandas as pd\n",
    "\n",
    "@cd.try_loop_decorator(times=5, sleep_time=2)\n",
    "@cd.record_error_decorator('stock_crawler_error.log')\n",
    "def stock_crawler(stock_id, year, month):\n",
    "    res_dict=cs.get_stock_month_price(stock_id, year, month)\n",
    "    \n",
    "    # 沒有報錯但沒有抓到資料\n",
    "    if not 'data' in res_dict: raise ValueError('size=0')\n",
    "    \n",
    "    values_np=np.array(res_dict['data'])\n",
    "    col_list=res_dict['fields']\n",
    "    stock_df=pd.DataFrame(values_np, columns=col_list)\n",
    "    stock_df['股票代號']=stock_id\n",
    "    stock_df=stock_df.drop(\"漲跌價差\", axis = 1)\n",
    "    return stock_df"
   ]
  },
  {
   "cell_type": "code",
   "execution_count": 117,
   "id": "bf882ac0-512b-44d9-9a42-09c1cc10dfce",
   "metadata": {},
   "outputs": [],
   "source": [
    "from copy import deepcopy\n",
    "\n",
    "@cd.record_error_decorator('format_error.log')\n",
    "def stock_df_format(stock_df):\n",
    "    new_df=deepcopy(stock_df)\n",
    "    \n",
    "    # 將欄位名稱變成英文的\n",
    "    replace_dict={\n",
    "        # 日期＆成交量\n",
    "        '日期':'date', '成交股數':'volume', '成交金額':'value',\n",
    "        # 開高低收\n",
    "        '開盤價':'open','最高價':'high','最低價':'low','收盤價':'close',\n",
    "        # 其他\n",
    "        '成交筆數':'record','股票代號':'stock_id'\n",
    "    }\n",
    "    new_df.columns=list(map(replace_dict.__getitem__, new_df.columns))\n",
    "    \n",
    "    # 將date欄位的日期改成mysql格式\n",
    "    def change_date_format(old_date):\n",
    "        # '110/01/04' -> '2021-01-04'\n",
    "        old_date_list = old_date.split('/')\n",
    "        year = int(old_date_list[0])+1911\n",
    "        return f\"{year}-{old_date_list[1]}-{old_date_list[2]}\"\n",
    "    new_df['date']=new_df['date'].apply(change_date_format)\n",
    "    \n",
    "    # 將數值欄位的「,」去掉並數值化\n",
    "    new_df['volume'] = new_df['volume'].apply(lambda x: int(x.replace(',','')))\n",
    "    new_df['value'] = new_df['value'].apply(lambda x: int(x.replace(',','')))\n",
    "    new_df['open'] = new_df['open'].apply(lambda x: float(x.replace(',','')))\n",
    "    new_df['high'] = new_df['high'].apply(lambda x: float(x.replace(',','')))\n",
    "    new_df['low'] = new_df['low'].apply(lambda x: float(x.replace(',','')))\n",
    "    new_df['close'] = new_df['close'].apply(lambda x: float(x.replace(',','')))\n",
    "    new_df['record'] = new_df['record'].apply(lambda x: int(x.replace(',','')))\n",
    "    \n",
    "    return new_df"
   ]
  },
  {
   "cell_type": "code",
   "execution_count": 118,
   "id": "c5664fdf-2587-4402-9c07-23f5a625f695",
   "metadata": {},
   "outputs": [],
   "source": [
    "import requests\n",
    "\n",
    "def get_0050_list():\n",
    "    payload={\n",
    "    'action': 'GetShareholdingDetails',\n",
    "    'stockId': '0050'\n",
    "    }\n",
    "\n",
    "    res=requests.post( \"https://www.cmoney.tw/etf/ashx/e210.ashx\", data=payload)\n",
    "    res=res.json()\n",
    "    \n",
    "    s0050_list=[ d['CommKey'] for d in res['Data']]\n",
    "    return s0050_list"
   ]
  },
  {
   "cell_type": "code",
   "execution_count": null,
   "id": "6ac3306e-5078-455b-9bb3-d430075ff648",
   "metadata": {},
   "outputs": [],
   "source": [
    "total_df=pd.DataFrame()\n",
    "\n",
    "for stock_id in get_0050_list()[:5]:\n",
    "    for year in range(2021,2023):\n",
    "        for month in range(1,3):\n",
    "            y=str(year)\n",
    "            m='0'+str(month) if month<10 else str(month)\n",
    "            \n",
    "            print(stock_id,y,m)\n",
    "            \n",
    "            df=stock_crawler(stock_id=stock_id, year=y, month=m)\n",
    "            if isinstance(df, pd.core.frame.DataFrame):\n",
    "                df=stock_df_format(df)\n",
    "                if isinstance(df, pd.core.frame.DataFrame):\n",
    "                    total_df=pd.concat([total_df,df],axis=0,ignore_index=True)\n",
    "            \n",
    "    total_df.to_csv('list0050.csv',index=False)"
   ]
  },
  {
   "cell_type": "code",
   "execution_count": null,
   "id": "8e32bb1b-4cfc-42d5-bbf5-1a5251504250",
   "metadata": {},
   "outputs": [],
   "source": []
  }
 ],
 "metadata": {
  "kernelspec": {
   "display_name": "Python 3 (ipykernel)",
   "language": "python",
   "name": "python3"
  },
  "language_info": {
   "codemirror_mode": {
    "name": "ipython",
    "version": 3
   },
   "file_extension": ".py",
   "mimetype": "text/x-python",
   "name": "python",
   "nbconvert_exporter": "python",
   "pygments_lexer": "ipython3",
   "version": "3.9.12"
  }
 },
 "nbformat": 4,
 "nbformat_minor": 5
}
